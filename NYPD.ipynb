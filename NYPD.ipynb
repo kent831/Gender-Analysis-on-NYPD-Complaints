{
 "cells": [
  {
   "cell_type": "markdown",
   "metadata": {},
   "source": [
    "# Gender Analysis on NYPD Complaints\n",
    "#### By: Kent Utama, Lauren Sidarto"
   ]
  },
  {
   "cell_type": "markdown",
   "metadata": {},
   "source": [
    "# Summary of Findings\n",
    "\n",
    "### Introduction\n",
    "The report below uses the \"Civilian Complaints Against New York City Police Officers\" dataset, published by the New York City’s Civilian Complaint Review Board. The dataset contains more than 12,000 civilian complaints filed against New York City police officers; to be specific, these are records of closed cases for every police officer still on the force as of late June 2020. \n",
    "\n",
    "The dataset contains details such as:\n",
    "- The officers' details (shield number, rank, race, etc.)\n",
    "- The complainants' details (age, race, gender, etc.)\n",
    "- Category describing the alleged misconduct,\n",
    "- The Civilian Complaint Review Board's (CCRB) conclusion on whether officers' conducts violated NYPD rules\n",
    "\n",
    "There has been a recent upswing of movements supporting feminism over recent years, and it is still a pertinent issue covered on the news. With this information in mind, we would like to investigate whether or not the Civilian Complaint Review Board (CCRB) is biased towards men. That is, if complaints from women have a lower success rate (substantiated or exonerated) than that of men's. \n",
    "\n",
    "Following this, we would then build a **classifier** where we get a few features and predict whether the outcome of a complaint ends up succesful (substantiated or exonerated) or not (unsubstantiated). We would like to find out how our classifier would emphasis weight on the features, especially gender. Lastly, we also tested on whether our model is fair or not on males vs females. In order to do this, we used **precision** (i.e. true positives) as our evaluation metric since it allows us to know how much of the actually successful outcomes were we able to correctly predict. \n",
    "\n",
    "### Assessment of Missingness\n",
    "The data was first cleaned; NaN values were investigated, and other values, like negative ages or 'Unknown' values, were replaced with NaN. This is necessary, since our analysis of missingness and the imputation of NaN values in our hypothesis test will overlook anything that is not NaN.\n",
    "\n",
    "The missingness test found that the missingness of the complainant's gender was dependent on FADO/complaint type, and independent of officer's precinct. Both these tests used the total variation difference (TVD) as a test statistic, since two categorical variables were being comparaed.\n",
    "\n",
    "### Hypothesis Test\n",
    "The hypothesis test, was conducted under the following assumptions: \n",
    "$$ H_0: C_W = C_M $$\n",
    "$$  H_A: C_W < C_M $$\n",
    "\n",
    "The null hypothesis is that the CCRB shows no bias between the complaints of men and women, the alternative hypothesis is that the CCRB is more favourable to men's complaints, and a significance level of 0.05 was used. The TVD was also utilized as the test statistic, because of similar reasoning as above (it was also found that the distribution of successful and failed complaints between the groups are similar, so it was not necessary to use the Kolmogorov-Smirnov statistic). The hypothesis test resulted in a rejection of the null hypothesis--i.e. men are treated more favourably by the CCRB--but when only data from 2019 was taken into account, the test failed to reject the null hypothesis, indicating that in more recent years, it is possible that the CCRB is less biased.\n",
    "\n",
    "\n",
    "### Baseline Model\n",
    "Since we find out that men have an overall advantage with the complaints, we would now proceed with our model:\n",
    "\n",
    "For the baseline model, we picked features that we believe are relevant to our investigation (e.g. complainant ethnicity/gender, officer ethnicity/gender, and even the year the complaint was received). We excluded factors that we believe is irrelevant such as name, complaint id, etc.\n",
    "\n",
    "Our investigation leads to a result of ~61% accuracy when we do a train-test split of 15% test size. To achieve this, we used the features `year_received`, `month_received`, `complainant_ethnicity`, `complainant_gender`, `fado_type`, `mos_ethnicity`, and `mos_gender` based on domain knowledge. We turned the board disposition into a binary variable where:\n",
    "- exonerated or substantiated is represented with a 1 (success), and\n",
    "- unsubstantiated is represented as a 0 (failure).\n",
    "\n",
    "For this model we ran a logistic regression on 7 features (5 nominal, 2 quantitative). For the nominal data, we simply one-hot encoded them so that they can be fit into a classifier model.\n",
    "\n",
    "Our model has an accuracy of around 61%--this is not too good for a machine learning model, but it may have good social implications. An accuracy of 61% indicates the strength of the pattern is simply slightly better than the chances for a coin flip. This means that the features we picked do not necessarily determine what a complaint's outcome is. This is a good thing; if an outcome can be determined accurately most of the time only by looking at the complainant and police officer's features (ethnicity, gender, etc.), it would raise a lot of red flags about the equity of the justice system in New York City.\n",
    "\n",
    "### Final Model\n",
    "For the final model, we added and engineered a couple more features:\n",
    "- `rank_incident` which describes the officer's rank at the time of complaint\n",
    "- `allegation` which describes the allegation made by the complainant\n",
    "We then ordinally encoded `rank_incident`, one-hot encoded `month_received` (since months should not necessarily play a quantitatively decisive role in this classifier).\n",
    "\n",
    "These features are helpful because we want to find out more about bias within the New York City Police Department (e.g. whether months/holiday seasons such as Christmas make them more lenient, or if an officer's rank play a big role in the success of a complaint). And lastly, accounting for `fado_type` in the engineered feature `allegation` allows the model to have more specific data about the type of 'offence' made by an officer, which in turn allows us to determine whether or not offence type is determinant in a complaint's outcome. \n",
    "\n",
    "We chose the same machine learning model as before, which is logistic regression, since it will allow us to analyze the coefficients of each feature and how it affects outcomes. \n",
    "\n",
    "A GridSearchCV is also run to determine the covergence point of the logistic regression model, which then was fixed as one of its parameters. The best model was picked (with only parameter `max_iter = 300`), fitted, trained, and tested accordingly.  \n",
    "\n",
    "All of these changes lead to, an improved accuracy of 68%, which is decent but still has great social implications. We are still unable to look at a complainant's and/or officer's physical features and decide whether the officer should be substantiated/exonerated. \n",
    "\n",
    "In fact, it gives us a better idea of the offences that officers truly commit against civilians, which we found to be abuse of authority through usage of excessive force. This can be deduced from the 6% increase in our probability by including `allegation`, where most of the contributing coefficients/factors belong to this column.\n",
    "\n",
    "We also found that contradictory to what we found earlier, in our model men have around a 2% lesser chance than women at being successful in their complaints, ignoring other features.\n",
    "\n",
    "Furthermore, we also found out that the biggest determinant for a successful complaint is if there was force involved (e.g. pepper spray, gun pointed, etc.). \n",
    "\n",
    "\n",
    "### Fairness Evaluation\n",
    "For the fairness evaluation, we want to find out whether or not the ~2% decreased chance for males' complaints to be successful is the truth or if it is because our model is biased towards women.\n",
    "\n",
    "\n",
    "To achieve this, we will be using precision as our parity measure since it gives us the proportion of actual successful complaints that were successfuly predicted by our model. Hence, we are able to get the accuracy of our model in predicting successful complaints. \n",
    "\n",
    "We do this by running a permutation test with the following parameters:\n",
    "\n",
    "- $H_0$: The model is fair; the precision for the two subsets are roughly the same\n",
    "- $H_a$: The model is unfair; the precision for the female subset is higher than the male subset\n",
    "- A significance level of p = 0.05 (5%).\n",
    "\n",
    "After running the permutation test, we got a p-value of ~0.90, which means that we do not reject the null; our precision for the two groups are similar. This is great because males have more successful complaints than failed complaints while females have almost an equal number of successful and failed complaints. Despite this slight \"imbalance\", which would cause our model to predict more false positives for males, it still has the same precision as the prediction for females. Hence, we can conclude that throughout history, the board tends to be biased towards men, yet our model has more weight on women's complaints being successful than men's. This could be due to the \"rapidly\" increasing success chances for women.\n",
    "\n",
    "### Conclusion\n",
    "To conclude the project, we found that women have an advantage when it comes to filing complaints towards the NYPD. Based on our model, this advantage is up by 2% when compared to men's. Although our findings show that men and women are not treated differently in 2019, the history regarding gender roles cannot be denied. Thus, a future project that can be derived from this is a model strictly made on some years instead of overtime. This can even be extended to a time series analysis to show the true change in favoritism/sexism in the NYPD over the past century. \n",
    "\n",
    "We found that society has made big steps toward fairness for both men and women. Although this disparity can still be felt in a lot of aspects in life, this project is a mere sign that this disparity is slowly diminishing. "
   ]
  },
  {
   "cell_type": "markdown",
   "metadata": {},
   "source": [
    "# Code\n",
    "### Cleaning and EDA\n",
    "\n",
    "We begin by importing the necessary packages:"
   ]
  },
  {
   "cell_type": "code",
   "execution_count": 156,
   "metadata": {},
   "outputs": [],
   "source": [
    "import matplotlib.pyplot as plt\n",
    "import numpy as np\n",
    "import os\n",
    "import pandas as pd\n",
    "import math\n",
    "%matplotlib inline\n",
    "%config InlineBackend.figure_format = 'retina'  # Higher resolution figures\n",
    "\n",
    "from sklearn.linear_model import LogisticRegression\n",
    "from sklearn.preprocessing import FunctionTransformer\n",
    "from sklearn.preprocessing import OneHotEncoder\n",
    "from sklearn.preprocessing import OrdinalEncoder\n",
    "from sklearn.pipeline import Pipeline\n",
    "from sklearn.compose import ColumnTransformer\n",
    "\n",
    "from sklearn.model_selection import train_test_split\n",
    "\n",
    "from sklearn.base import BaseEstimator, TransformerMixin"
   ]
  },
  {
   "cell_type": "markdown",
   "metadata": {},
   "source": [
    "The code block below describes the process of reading a .csv dataset into a dataframe using the `read_csv()` function; the first few rows are shown using `head()`."
   ]
  },
  {
   "cell_type": "code",
   "execution_count": 157,
   "metadata": {},
   "outputs": [
    {
     "data": {
      "text/html": [
       "<div>\n",
       "<style scoped>\n",
       "    .dataframe tbody tr th:only-of-type {\n",
       "        vertical-align: middle;\n",
       "    }\n",
       "\n",
       "    .dataframe tbody tr th {\n",
       "        vertical-align: top;\n",
       "    }\n",
       "\n",
       "    .dataframe thead th {\n",
       "        text-align: right;\n",
       "    }\n",
       "</style>\n",
       "<table border=\"1\" class=\"dataframe\">\n",
       "  <thead>\n",
       "    <tr style=\"text-align: right;\">\n",
       "      <th></th>\n",
       "      <th>unique_mos_id</th>\n",
       "      <th>first_name</th>\n",
       "      <th>last_name</th>\n",
       "      <th>command_now</th>\n",
       "      <th>shield_no</th>\n",
       "      <th>complaint_id</th>\n",
       "      <th>month_received</th>\n",
       "      <th>year_received</th>\n",
       "      <th>month_closed</th>\n",
       "      <th>year_closed</th>\n",
       "      <th>...</th>\n",
       "      <th>mos_age_incident</th>\n",
       "      <th>complainant_ethnicity</th>\n",
       "      <th>complainant_gender</th>\n",
       "      <th>complainant_age_incident</th>\n",
       "      <th>fado_type</th>\n",
       "      <th>allegation</th>\n",
       "      <th>precinct</th>\n",
       "      <th>contact_reason</th>\n",
       "      <th>outcome_description</th>\n",
       "      <th>board_disposition</th>\n",
       "    </tr>\n",
       "  </thead>\n",
       "  <tbody>\n",
       "    <tr>\n",
       "      <th>0</th>\n",
       "      <td>10004</td>\n",
       "      <td>Jonathan</td>\n",
       "      <td>Ruiz</td>\n",
       "      <td>078 PCT</td>\n",
       "      <td>8409</td>\n",
       "      <td>42835</td>\n",
       "      <td>7</td>\n",
       "      <td>2019</td>\n",
       "      <td>5</td>\n",
       "      <td>2020</td>\n",
       "      <td>...</td>\n",
       "      <td>32</td>\n",
       "      <td>Black</td>\n",
       "      <td>Female</td>\n",
       "      <td>38.0</td>\n",
       "      <td>Abuse of Authority</td>\n",
       "      <td>Failure to provide RTKA card</td>\n",
       "      <td>78.0</td>\n",
       "      <td>Report-domestic dispute</td>\n",
       "      <td>No arrest made or summons issued</td>\n",
       "      <td>Substantiated (Command Lvl Instructions)</td>\n",
       "    </tr>\n",
       "    <tr>\n",
       "      <th>1</th>\n",
       "      <td>10007</td>\n",
       "      <td>John</td>\n",
       "      <td>Sears</td>\n",
       "      <td>078 PCT</td>\n",
       "      <td>5952</td>\n",
       "      <td>24601</td>\n",
       "      <td>11</td>\n",
       "      <td>2011</td>\n",
       "      <td>8</td>\n",
       "      <td>2012</td>\n",
       "      <td>...</td>\n",
       "      <td>24</td>\n",
       "      <td>Black</td>\n",
       "      <td>Male</td>\n",
       "      <td>26.0</td>\n",
       "      <td>Discourtesy</td>\n",
       "      <td>Action</td>\n",
       "      <td>67.0</td>\n",
       "      <td>Moving violation</td>\n",
       "      <td>Moving violation summons issued</td>\n",
       "      <td>Substantiated (Charges)</td>\n",
       "    </tr>\n",
       "    <tr>\n",
       "      <th>2</th>\n",
       "      <td>10007</td>\n",
       "      <td>John</td>\n",
       "      <td>Sears</td>\n",
       "      <td>078 PCT</td>\n",
       "      <td>5952</td>\n",
       "      <td>24601</td>\n",
       "      <td>11</td>\n",
       "      <td>2011</td>\n",
       "      <td>8</td>\n",
       "      <td>2012</td>\n",
       "      <td>...</td>\n",
       "      <td>24</td>\n",
       "      <td>Black</td>\n",
       "      <td>Male</td>\n",
       "      <td>26.0</td>\n",
       "      <td>Offensive Language</td>\n",
       "      <td>Race</td>\n",
       "      <td>67.0</td>\n",
       "      <td>Moving violation</td>\n",
       "      <td>Moving violation summons issued</td>\n",
       "      <td>Substantiated (Charges)</td>\n",
       "    </tr>\n",
       "    <tr>\n",
       "      <th>3</th>\n",
       "      <td>10007</td>\n",
       "      <td>John</td>\n",
       "      <td>Sears</td>\n",
       "      <td>078 PCT</td>\n",
       "      <td>5952</td>\n",
       "      <td>26146</td>\n",
       "      <td>7</td>\n",
       "      <td>2012</td>\n",
       "      <td>9</td>\n",
       "      <td>2013</td>\n",
       "      <td>...</td>\n",
       "      <td>25</td>\n",
       "      <td>Black</td>\n",
       "      <td>Male</td>\n",
       "      <td>45.0</td>\n",
       "      <td>Abuse of Authority</td>\n",
       "      <td>Question</td>\n",
       "      <td>67.0</td>\n",
       "      <td>PD suspected C/V of violation/crime - street</td>\n",
       "      <td>No arrest made or summons issued</td>\n",
       "      <td>Substantiated (Charges)</td>\n",
       "    </tr>\n",
       "    <tr>\n",
       "      <th>4</th>\n",
       "      <td>10009</td>\n",
       "      <td>Noemi</td>\n",
       "      <td>Sierra</td>\n",
       "      <td>078 PCT</td>\n",
       "      <td>24058</td>\n",
       "      <td>40253</td>\n",
       "      <td>8</td>\n",
       "      <td>2018</td>\n",
       "      <td>2</td>\n",
       "      <td>2019</td>\n",
       "      <td>...</td>\n",
       "      <td>39</td>\n",
       "      <td>NaN</td>\n",
       "      <td>NaN</td>\n",
       "      <td>16.0</td>\n",
       "      <td>Force</td>\n",
       "      <td>Physical force</td>\n",
       "      <td>67.0</td>\n",
       "      <td>Report-dispute</td>\n",
       "      <td>Arrest - other violation/crime</td>\n",
       "      <td>Substantiated (Command Discipline A)</td>\n",
       "    </tr>\n",
       "  </tbody>\n",
       "</table>\n",
       "<p>5 rows × 27 columns</p>\n",
       "</div>"
      ],
      "text/plain": [
       "   unique_mos_id first_name last_name command_now  shield_no  complaint_id  \\\n",
       "0          10004   Jonathan      Ruiz     078 PCT       8409         42835   \n",
       "1          10007       John     Sears     078 PCT       5952         24601   \n",
       "2          10007       John     Sears     078 PCT       5952         24601   \n",
       "3          10007       John     Sears     078 PCT       5952         26146   \n",
       "4          10009      Noemi    Sierra     078 PCT      24058         40253   \n",
       "\n",
       "   month_received  year_received  month_closed  year_closed  ...  \\\n",
       "0               7           2019             5         2020  ...   \n",
       "1              11           2011             8         2012  ...   \n",
       "2              11           2011             8         2012  ...   \n",
       "3               7           2012             9         2013  ...   \n",
       "4               8           2018             2         2019  ...   \n",
       "\n",
       "  mos_age_incident complainant_ethnicity complainant_gender  \\\n",
       "0               32                 Black             Female   \n",
       "1               24                 Black               Male   \n",
       "2               24                 Black               Male   \n",
       "3               25                 Black               Male   \n",
       "4               39                   NaN                NaN   \n",
       "\n",
       "  complainant_age_incident           fado_type                    allegation  \\\n",
       "0                     38.0  Abuse of Authority  Failure to provide RTKA card   \n",
       "1                     26.0         Discourtesy                        Action   \n",
       "2                     26.0  Offensive Language                          Race   \n",
       "3                     45.0  Abuse of Authority                      Question   \n",
       "4                     16.0               Force                Physical force   \n",
       "\n",
       "  precinct                                contact_reason  \\\n",
       "0     78.0                       Report-domestic dispute   \n",
       "1     67.0                              Moving violation   \n",
       "2     67.0                              Moving violation   \n",
       "3     67.0  PD suspected C/V of violation/crime - street   \n",
       "4     67.0                                Report-dispute   \n",
       "\n",
       "                outcome_description                         board_disposition  \n",
       "0  No arrest made or summons issued  Substantiated (Command Lvl Instructions)  \n",
       "1   Moving violation summons issued                   Substantiated (Charges)  \n",
       "2   Moving violation summons issued                   Substantiated (Charges)  \n",
       "3  No arrest made or summons issued                   Substantiated (Charges)  \n",
       "4    Arrest - other violation/crime      Substantiated (Command Discipline A)  \n",
       "\n",
       "[5 rows x 27 columns]"
      ]
     },
     "execution_count": 157,
     "metadata": {},
     "output_type": "execute_result"
    }
   ],
   "source": [
    "allegations = pd.read_csv('allegations.csv')\n",
    "allegations.head() #using .head() function to display the first few rows"
   ]
  },
  {
   "cell_type": "markdown",
   "metadata": {},
   "source": [
    "To get a better idea of what the data contains, the code block below uses the `dtype` function to show the data type of each of the columns, as well as a full list of the columns."
   ]
  },
  {
   "cell_type": "code",
   "execution_count": 158,
   "metadata": {},
   "outputs": [
    {
     "data": {
      "text/plain": [
       "unique_mos_id                 int64\n",
       "first_name                   object\n",
       "last_name                    object\n",
       "command_now                  object\n",
       "shield_no                     int64\n",
       "complaint_id                  int64\n",
       "month_received                int64\n",
       "year_received                 int64\n",
       "month_closed                  int64\n",
       "year_closed                   int64\n",
       "command_at_incident          object\n",
       "rank_abbrev_incident         object\n",
       "rank_abbrev_now              object\n",
       "rank_now                     object\n",
       "rank_incident                object\n",
       "mos_ethnicity                object\n",
       "mos_gender                   object\n",
       "mos_age_incident              int64\n",
       "complainant_ethnicity        object\n",
       "complainant_gender           object\n",
       "complainant_age_incident    float64\n",
       "fado_type                    object\n",
       "allegation                   object\n",
       "precinct                    float64\n",
       "contact_reason               object\n",
       "outcome_description          object\n",
       "board_disposition            object\n",
       "dtype: object"
      ]
     },
     "execution_count": 158,
     "metadata": {},
     "output_type": "execute_result"
    }
   ],
   "source": [
    "allegations.dtypes"
   ]
  },
  {
   "cell_type": "markdown",
   "metadata": {},
   "source": [
    "**Data Cleaning**\n",
    "\n",
    "Before analysis, the dataset must be cleaned. The code block below lists all the numerical columns with NaN values in them, as well as displays the first few rows with NaN values in them:"
   ]
  },
  {
   "cell_type": "code",
   "execution_count": 159,
   "metadata": {},
   "outputs": [
    {
     "name": "stdout",
     "output_type": "stream",
     "text": [
      "Index(['command_at_incident', 'complainant_ethnicity', 'complainant_gender',\n",
      "       'complainant_age_incident', 'allegation', 'precinct', 'contact_reason',\n",
      "       'outcome_description'],\n",
      "      dtype='object')\n"
     ]
    },
    {
     "data": {
      "text/html": [
       "<div>\n",
       "<style scoped>\n",
       "    .dataframe tbody tr th:only-of-type {\n",
       "        vertical-align: middle;\n",
       "    }\n",
       "\n",
       "    .dataframe tbody tr th {\n",
       "        vertical-align: top;\n",
       "    }\n",
       "\n",
       "    .dataframe thead th {\n",
       "        text-align: right;\n",
       "    }\n",
       "</style>\n",
       "<table border=\"1\" class=\"dataframe\">\n",
       "  <thead>\n",
       "    <tr style=\"text-align: right;\">\n",
       "      <th></th>\n",
       "      <th>complainant_ethnicity</th>\n",
       "      <th>complainant_gender</th>\n",
       "      <th>contact_reason</th>\n",
       "    </tr>\n",
       "  </thead>\n",
       "  <tbody>\n",
       "    <tr>\n",
       "      <th>4</th>\n",
       "      <td>NaN</td>\n",
       "      <td>NaN</td>\n",
       "      <td>Report-dispute</td>\n",
       "    </tr>\n",
       "    <tr>\n",
       "      <th>59</th>\n",
       "      <td>Black</td>\n",
       "      <td>Male</td>\n",
       "      <td>NaN</td>\n",
       "    </tr>\n",
       "    <tr>\n",
       "      <th>60</th>\n",
       "      <td>Black</td>\n",
       "      <td>Male</td>\n",
       "      <td>NaN</td>\n",
       "    </tr>\n",
       "    <tr>\n",
       "      <th>61</th>\n",
       "      <td>Black</td>\n",
       "      <td>Male</td>\n",
       "      <td>NaN</td>\n",
       "    </tr>\n",
       "    <tr>\n",
       "      <th>62</th>\n",
       "      <td>Black</td>\n",
       "      <td>Male</td>\n",
       "      <td>NaN</td>\n",
       "    </tr>\n",
       "  </tbody>\n",
       "</table>\n",
       "</div>"
      ],
      "text/plain": [
       "   complainant_ethnicity complainant_gender  contact_reason\n",
       "4                    NaN                NaN  Report-dispute\n",
       "59                 Black               Male             NaN\n",
       "60                 Black               Male             NaN\n",
       "61                 Black               Male             NaN\n",
       "62                 Black               Male             NaN"
      ]
     },
     "execution_count": 159,
     "metadata": {},
     "output_type": "execute_result"
    }
   ],
   "source": [
    "print(allegations.columns[allegations.isnull().sum() >0])\n",
    "allegations[allegations.isna().any(axis=1)].head()[['complainant_ethnicity','complainant_gender','contact_reason']]"
   ]
  },
  {
   "cell_type": "markdown",
   "metadata": {},
   "source": [
    "We also notice that some values in the non-numerical columns are \"Unknown\"."
   ]
  },
  {
   "cell_type": "code",
   "execution_count": 160,
   "metadata": {},
   "outputs": [
    {
     "data": {
      "text/plain": [
       "271    Unknown\n",
       "272    Unknown\n",
       "Name: complainant_ethnicity, dtype: object"
      ]
     },
     "execution_count": 160,
     "metadata": {},
     "output_type": "execute_result"
    }
   ],
   "source": [
    "allegations.iloc[271:273]['complainant_ethnicity']"
   ]
  },
  {
   "cell_type": "markdown",
   "metadata": {},
   "source": [
    "For missingness analysis, these need to be replaced with NaN values; the code block below achieves that with `.replace()`, with the argument `regex=True`."
   ]
  },
  {
   "cell_type": "code",
   "execution_count": 161,
   "metadata": {},
   "outputs": [],
   "source": [
    "allegations = allegations.replace(r'Unknown', np.nan, regex=True)"
   ]
  },
  {
   "cell_type": "markdown",
   "metadata": {},
   "source": [
    "There may be other invalid entries other than NaN values. First, we check the numerical columns for negative values using `np.where`, and find and dislpay these rows."
   ]
  },
  {
   "cell_type": "code",
   "execution_count": 162,
   "metadata": {},
   "outputs": [
    {
     "data": {
      "text/html": [
       "<div>\n",
       "<style scoped>\n",
       "    .dataframe tbody tr th:only-of-type {\n",
       "        vertical-align: middle;\n",
       "    }\n",
       "\n",
       "    .dataframe tbody tr th {\n",
       "        vertical-align: top;\n",
       "    }\n",
       "\n",
       "    .dataframe thead th {\n",
       "        text-align: right;\n",
       "    }\n",
       "</style>\n",
       "<table border=\"1\" class=\"dataframe\">\n",
       "  <thead>\n",
       "    <tr style=\"text-align: right;\">\n",
       "      <th></th>\n",
       "      <th>complainant_age_incident</th>\n",
       "      <th>precinct</th>\n",
       "    </tr>\n",
       "  </thead>\n",
       "  <tbody>\n",
       "    <tr>\n",
       "      <th>4393</th>\n",
       "      <td>-1.0</td>\n",
       "      <td>122.0</td>\n",
       "    </tr>\n",
       "    <tr>\n",
       "      <th>6981</th>\n",
       "      <td>-1.0</td>\n",
       "      <td>77.0</td>\n",
       "    </tr>\n",
       "    <tr>\n",
       "      <th>10274</th>\n",
       "      <td>-4301.0</td>\n",
       "      <td>72.0</td>\n",
       "    </tr>\n",
       "    <tr>\n",
       "      <th>17241</th>\n",
       "      <td>-1.0</td>\n",
       "      <td>67.0</td>\n",
       "    </tr>\n",
       "    <tr>\n",
       "      <th>17243</th>\n",
       "      <td>-1.0</td>\n",
       "      <td>67.0</td>\n",
       "    </tr>\n",
       "    <tr>\n",
       "      <th>23560</th>\n",
       "      <td>-1.0</td>\n",
       "      <td>40.0</td>\n",
       "    </tr>\n",
       "  </tbody>\n",
       "</table>\n",
       "</div>"
      ],
      "text/plain": [
       "       complainant_age_incident  precinct\n",
       "4393                       -1.0     122.0\n",
       "6981                       -1.0      77.0\n",
       "10274                   -4301.0      72.0\n",
       "17241                      -1.0      67.0\n",
       "17243                      -1.0      67.0\n",
       "23560                      -1.0      40.0"
      ]
     },
     "execution_count": 162,
     "metadata": {},
     "output_type": "execute_result"
    }
   ],
   "source": [
    "cols = allegations.columns[(allegations.dtypes == int)|(allegations.dtypes == float)] #get columns with int or float values\n",
    "allegations.iloc[np.where(allegations[cols]<0)[0]][cols]"
   ]
  },
  {
   "cell_type": "code",
   "execution_count": 163,
   "metadata": {},
   "outputs": [
    {
     "data": {
      "text/plain": [
       "4393       -1.0\n",
       "6981       -1.0\n",
       "10274   -4301.0\n",
       "17241      -1.0\n",
       "17243      -1.0\n",
       "23560      -1.0\n",
       "Name: complainant_age_incident, dtype: float64"
      ]
     },
     "execution_count": 163,
     "metadata": {},
     "output_type": "execute_result"
    }
   ],
   "source": [
    "allegations.iloc[np.where(allegations[cols]<0)[0]]['complainant_age_incident']"
   ]
  },
  {
   "cell_type": "markdown",
   "metadata": {},
   "source": [
    "We see that the column `complainant_age_incident`, which denotes the age of the complainant at the time of the incident, has negative ages. This likely indicates that the age was either not reported, or reported wrong. The code block below replaces these values with `NaN`, so that they do not skew summary statistics (e.g. the mean)."
   ]
  },
  {
   "cell_type": "code",
   "execution_count": 164,
   "metadata": {},
   "outputs": [
    {
     "data": {
      "text/plain": [
       "4393    NaN\n",
       "6981    NaN\n",
       "10274   NaN\n",
       "17241   NaN\n",
       "17243   NaN\n",
       "23560   NaN\n",
       "Name: complainant_age_incident, dtype: float64"
      ]
     },
     "execution_count": 164,
     "metadata": {},
     "output_type": "execute_result"
    }
   ],
   "source": [
    "allegations['complainant_age_incident'][allegations['complainant_age_incident'] < 0] = np.NaN\n",
    "allegations.iloc[[4393,6981,10274,17241,17243,23560]]['complainant_age_incident'] #shows that the values have been replaced"
   ]
  },
  {
   "cell_type": "markdown",
   "metadata": {},
   "source": [
    "**Univariate Analysis**\n",
    "\n",
    "Finally, we display some summary statistics--mean, standard deviation, minimum value, and maximum value--for each of the columns, using the `describe()` function. "
   ]
  },
  {
   "cell_type": "code",
   "execution_count": 165,
   "metadata": {},
   "outputs": [
    {
     "data": {
      "text/html": [
       "<div>\n",
       "<style scoped>\n",
       "    .dataframe tbody tr th:only-of-type {\n",
       "        vertical-align: middle;\n",
       "    }\n",
       "\n",
       "    .dataframe tbody tr th {\n",
       "        vertical-align: top;\n",
       "    }\n",
       "\n",
       "    .dataframe thead th {\n",
       "        text-align: right;\n",
       "    }\n",
       "</style>\n",
       "<table border=\"1\" class=\"dataframe\">\n",
       "  <thead>\n",
       "    <tr style=\"text-align: right;\">\n",
       "      <th></th>\n",
       "      <th>unique_mos_id</th>\n",
       "      <th>shield_no</th>\n",
       "      <th>complaint_id</th>\n",
       "      <th>month_received</th>\n",
       "      <th>year_received</th>\n",
       "      <th>month_closed</th>\n",
       "      <th>year_closed</th>\n",
       "      <th>mos_age_incident</th>\n",
       "      <th>complainant_age_incident</th>\n",
       "      <th>precinct</th>\n",
       "    </tr>\n",
       "  </thead>\n",
       "  <tbody>\n",
       "    <tr>\n",
       "      <th>mean</th>\n",
       "      <td>18169.912495</td>\n",
       "      <td>6451.608819</td>\n",
       "      <td>23905.058217</td>\n",
       "      <td>6.323551</td>\n",
       "      <td>2010.726782</td>\n",
       "      <td>6.470772</td>\n",
       "      <td>2011.525661</td>\n",
       "      <td>32.346873</td>\n",
       "      <td>32.641906</td>\n",
       "      <td>64.365213</td>\n",
       "    </tr>\n",
       "    <tr>\n",
       "      <th>std</th>\n",
       "      <td>9566.316896</td>\n",
       "      <td>7945.641596</td>\n",
       "      <td>11954.434138</td>\n",
       "      <td>3.362951</td>\n",
       "      <td>6.034725</td>\n",
       "      <td>3.343372</td>\n",
       "      <td>6.085907</td>\n",
       "      <td>6.040944</td>\n",
       "      <td>12.206667</td>\n",
       "      <td>31.451592</td>\n",
       "    </tr>\n",
       "    <tr>\n",
       "      <th>min</th>\n",
       "      <td>2.000000</td>\n",
       "      <td>0.000000</td>\n",
       "      <td>517.000000</td>\n",
       "      <td>1.000000</td>\n",
       "      <td>1985.000000</td>\n",
       "      <td>1.000000</td>\n",
       "      <td>1985.000000</td>\n",
       "      <td>20.000000</td>\n",
       "      <td>0.000000</td>\n",
       "      <td>0.000000</td>\n",
       "    </tr>\n",
       "    <tr>\n",
       "      <th>max</th>\n",
       "      <td>36374.000000</td>\n",
       "      <td>31977.000000</td>\n",
       "      <td>43703.000000</td>\n",
       "      <td>12.000000</td>\n",
       "      <td>2020.000000</td>\n",
       "      <td>12.000000</td>\n",
       "      <td>2020.000000</td>\n",
       "      <td>60.000000</td>\n",
       "      <td>101.000000</td>\n",
       "      <td>1000.000000</td>\n",
       "    </tr>\n",
       "  </tbody>\n",
       "</table>\n",
       "</div>"
      ],
      "text/plain": [
       "      unique_mos_id     shield_no  complaint_id  month_received  \\\n",
       "mean   18169.912495   6451.608819  23905.058217        6.323551   \n",
       "std     9566.316896   7945.641596  11954.434138        3.362951   \n",
       "min        2.000000      0.000000    517.000000        1.000000   \n",
       "max    36374.000000  31977.000000  43703.000000       12.000000   \n",
       "\n",
       "      year_received  month_closed  year_closed  mos_age_incident  \\\n",
       "mean    2010.726782      6.470772  2011.525661         32.346873   \n",
       "std        6.034725      3.343372     6.085907          6.040944   \n",
       "min     1985.000000      1.000000  1985.000000         20.000000   \n",
       "max     2020.000000     12.000000  2020.000000         60.000000   \n",
       "\n",
       "      complainant_age_incident     precinct  \n",
       "mean                 32.641906    64.365213  \n",
       "std                  12.206667    31.451592  \n",
       "min                   0.000000     0.000000  \n",
       "max                 101.000000  1000.000000  "
      ]
     },
     "execution_count": 165,
     "metadata": {},
     "output_type": "execute_result"
    }
   ],
   "source": [
    "summary = allegations.describe().loc[['mean','std','min','max']]\n",
    "summary"
   ]
  },
  {
   "cell_type": "markdown",
   "metadata": {},
   "source": [
    "We also plot the distribution of some of the variables.\n",
    "\n",
    "`month_received` and `month_closed` can be grouped into 12 bins, one for each month. The function `subplots()` is used to display graphs side-by-side. March sees the most amount of complaints filed, and June sees the most amount of complaints closed."
   ]
  },
  {
   "cell_type": "code",
   "execution_count": 166,
   "metadata": {},
   "outputs": [
    {
     "data": {
      "image/png": "[encoded data removed]",
      "text/plain": [
       "<Figure size 432x288 with 2 Axes>"
      ]
     },
     "metadata": {
      "image/png": {
       "height": 263,
       "width": 381
      },
      "needs_background": "light"
     },
     "output_type": "display_data"
    }
   ],
   "source": [
    "fig, axes = plt.subplots(1, 2)\n",
    "allegations.hist('month_received',bins=12,ax=axes[0])\n",
    "allegations.hist('month_closed',bins=12,ax=axes[1])\n",
    "plt.show()"
   ]
  },
  {
   "cell_type": "markdown",
   "metadata": {},
   "source": [
    "We can also plot the distributions of `mos_age_incident` and `complainant_age` together, since they are also on the same scale. The range of members of service is much smaller than the range of complainants, but their means are around 32 years old, as consistent with the table above.\n",
    "\n",
    "A boxplot is able to show the centrality and distribution of ages; the red line indicates the mean of each group, and circles indicate outliers. There is one outlier in complainant_age--a value around 100 years--but because this is still a valid age for a human, we decide to leave the data in."
   ]
  },
  {
   "cell_type": "code",
   "execution_count": 167,
   "metadata": {},
   "outputs": [
    {
     "data": {
      "image/png": "[encoded data removed]",
      "text/plain": [
       "<Figure size 432x288 with 1 Axes>"
      ]
     },
     "metadata": {
      "image/png": {
       "height": 248,
       "width": 375
      },
      "needs_background": "light"
     },
     "output_type": "display_data"
    }
   ],
   "source": [
    "plt.boxplot(allegations[['mos_age_incident','complainant_age_incident']].dropna(), labels = ['mos_age_incident','complainant_age'])\n",
    "plt.show()"
   ]
  },
  {
   "cell_type": "markdown",
   "metadata": {},
   "source": [
    "**Bivariate Analysis**\n",
    "\n",
    "This report aims to find out whether or not specific genders are more likely to receive favourable outcomes. We first select the relevant columns, `complainant_gender`,`outcome_description`, and `board_disposition`, and save them in a separate dataframe. The NaN values are dropped using `dropna()`, and the first few rows are displayed."
   ]
  },
  {
   "cell_type": "code",
   "execution_count": 168,
   "metadata": {},
   "outputs": [
    {
     "data": {
      "text/html": [
       "<div>\n",
       "<style scoped>\n",
       "    .dataframe tbody tr th:only-of-type {\n",
       "        vertical-align: middle;\n",
       "    }\n",
       "\n",
       "    .dataframe tbody tr th {\n",
       "        vertical-align: top;\n",
       "    }\n",
       "\n",
       "    .dataframe thead th {\n",
       "        text-align: right;\n",
       "    }\n",
       "</style>\n",
       "<table border=\"1\" class=\"dataframe\">\n",
       "  <thead>\n",
       "    <tr style=\"text-align: right;\">\n",
       "      <th></th>\n",
       "      <th>complainant_gender</th>\n",
       "      <th>outcome_description</th>\n",
       "      <th>board_disposition</th>\n",
       "    </tr>\n",
       "  </thead>\n",
       "  <tbody>\n",
       "    <tr>\n",
       "      <th>0</th>\n",
       "      <td>Female</td>\n",
       "      <td>No arrest made or summons issued</td>\n",
       "      <td>Substantiated (Command Lvl Instructions)</td>\n",
       "    </tr>\n",
       "    <tr>\n",
       "      <th>1</th>\n",
       "      <td>Male</td>\n",
       "      <td>Moving violation summons issued</td>\n",
       "      <td>Substantiated (Charges)</td>\n",
       "    </tr>\n",
       "    <tr>\n",
       "      <th>2</th>\n",
       "      <td>Male</td>\n",
       "      <td>Moving violation summons issued</td>\n",
       "      <td>Substantiated (Charges)</td>\n",
       "    </tr>\n",
       "    <tr>\n",
       "      <th>3</th>\n",
       "      <td>Male</td>\n",
       "      <td>No arrest made or summons issued</td>\n",
       "      <td>Substantiated (Charges)</td>\n",
       "    </tr>\n",
       "    <tr>\n",
       "      <th>5</th>\n",
       "      <td>Male</td>\n",
       "      <td>No arrest made or summons issued</td>\n",
       "      <td>Substantiated (Command Lvl Instructions)</td>\n",
       "    </tr>\n",
       "  </tbody>\n",
       "</table>\n",
       "</div>"
      ],
      "text/plain": [
       "  complainant_gender               outcome_description  \\\n",
       "0             Female  No arrest made or summons issued   \n",
       "1               Male   Moving violation summons issued   \n",
       "2               Male   Moving violation summons issued   \n",
       "3               Male  No arrest made or summons issued   \n",
       "5               Male  No arrest made or summons issued   \n",
       "\n",
       "                          board_disposition  \n",
       "0  Substantiated (Command Lvl Instructions)  \n",
       "1                   Substantiated (Charges)  \n",
       "2                   Substantiated (Charges)  \n",
       "3                   Substantiated (Charges)  \n",
       "5  Substantiated (Command Lvl Instructions)  "
      ]
     },
     "execution_count": 168,
     "metadata": {},
     "output_type": "execute_result"
    }
   ],
   "source": [
    "df = allegations[['complainant_gender', 'outcome_description','board_disposition']]\n",
    "df = df.dropna(subset=['complainant_gender','outcome_description'])\n",
    "df.head()"
   ]
  },
  {
   "cell_type": "markdown",
   "metadata": {},
   "source": [
    "Then, this data is reformatted into a pivot table, indexed by `complainant_gender`. The table counts (indiciated by the argument `aggfunc = 'count'`) the number of each outcome. A `Total Count` column is also added to display the sum of all counts row-wise.\n",
    "\n",
    "For reference, the meanings of the outcomes are as follows: \n",
    "- Substantiated: \"The alleged conduct occurred and it violated the rules. The NYPD can choose to ignore those recommendations. It has discretion over what, if any, discipline is imposed.\"\n",
    "\n",
    "- Exonerated: \"The alleged conduct occurred but did not violate the NYPD’s rules, which often give officers significant discretion over use of force.\"\n",
    "- Unsubstantiated: \"The CCRB has fully investigated but could not affirmatively conclude both that the conduct occurred and that it broke the rules.\"\n",
    "\n",
    "For the sake of simplicity, we consider both \"Substantiated\" and \"Exonerated\" as successful, and \"Unsubstantiated\" as failed."
   ]
  },
  {
   "cell_type": "code",
   "execution_count": 169,
   "metadata": {},
   "outputs": [
    {
     "data": {
      "text/html": [
       "<div>\n",
       "<style scoped>\n",
       "    .dataframe tbody tr th:only-of-type {\n",
       "        vertical-align: middle;\n",
       "    }\n",
       "\n",
       "    .dataframe tbody tr th {\n",
       "        vertical-align: top;\n",
       "    }\n",
       "\n",
       "    .dataframe thead th {\n",
       "        text-align: right;\n",
       "    }\n",
       "</style>\n",
       "<table border=\"1\" class=\"dataframe\">\n",
       "  <thead>\n",
       "    <tr style=\"text-align: right;\">\n",
       "      <th>board_disposition</th>\n",
       "      <th>Exonerated</th>\n",
       "      <th>Substantiated (Charges)</th>\n",
       "      <th>Substantiated (Command Discipline A)</th>\n",
       "      <th>Substantiated (Command Discipline B)</th>\n",
       "      <th>Substantiated (Command Discipline)</th>\n",
       "      <th>Substantiated (Command Lvl Instructions)</th>\n",
       "      <th>Substantiated (Formalized Training)</th>\n",
       "      <th>Substantiated (Instructions)</th>\n",
       "      <th>Substantiated (No Recommendations)</th>\n",
       "      <th>Unsubstantiated</th>\n",
       "      <th>Total Count</th>\n",
       "    </tr>\n",
       "    <tr>\n",
       "      <th>complainant_gender</th>\n",
       "      <th></th>\n",
       "      <th></th>\n",
       "      <th></th>\n",
       "      <th></th>\n",
       "      <th></th>\n",
       "      <th></th>\n",
       "      <th></th>\n",
       "      <th></th>\n",
       "      <th></th>\n",
       "      <th></th>\n",
       "      <th></th>\n",
       "    </tr>\n",
       "  </thead>\n",
       "  <tbody>\n",
       "    <tr>\n",
       "      <th>Female</th>\n",
       "      <td>1409.0</td>\n",
       "      <td>362.0</td>\n",
       "      <td>115.0</td>\n",
       "      <td>112.0</td>\n",
       "      <td>110.0</td>\n",
       "      <td>88.0</td>\n",
       "      <td>180.0</td>\n",
       "      <td>47.0</td>\n",
       "      <td>9.0</td>\n",
       "      <td>2561.0</td>\n",
       "      <td>4993.0</td>\n",
       "    </tr>\n",
       "    <tr>\n",
       "      <th>Gender non-conforming</th>\n",
       "      <td>NaN</td>\n",
       "      <td>NaN</td>\n",
       "      <td>NaN</td>\n",
       "      <td>NaN</td>\n",
       "      <td>NaN</td>\n",
       "      <td>2.0</td>\n",
       "      <td>NaN</td>\n",
       "      <td>NaN</td>\n",
       "      <td>NaN</td>\n",
       "      <td>NaN</td>\n",
       "      <td>2.0</td>\n",
       "    </tr>\n",
       "    <tr>\n",
       "      <th>Male</th>\n",
       "      <td>6567.0</td>\n",
       "      <td>2944.0</td>\n",
       "      <td>752.0</td>\n",
       "      <td>600.0</td>\n",
       "      <td>600.0</td>\n",
       "      <td>317.0</td>\n",
       "      <td>713.0</td>\n",
       "      <td>171.0</td>\n",
       "      <td>50.0</td>\n",
       "      <td>11327.0</td>\n",
       "      <td>24041.0</td>\n",
       "    </tr>\n",
       "    <tr>\n",
       "      <th>Not described</th>\n",
       "      <td>21.0</td>\n",
       "      <td>NaN</td>\n",
       "      <td>4.0</td>\n",
       "      <td>1.0</td>\n",
       "      <td>NaN</td>\n",
       "      <td>3.0</td>\n",
       "      <td>6.0</td>\n",
       "      <td>NaN</td>\n",
       "      <td>NaN</td>\n",
       "      <td>22.0</td>\n",
       "      <td>57.0</td>\n",
       "    </tr>\n",
       "    <tr>\n",
       "      <th>Transman (FTM)</th>\n",
       "      <td>NaN</td>\n",
       "      <td>NaN</td>\n",
       "      <td>NaN</td>\n",
       "      <td>2.0</td>\n",
       "      <td>NaN</td>\n",
       "      <td>NaN</td>\n",
       "      <td>NaN</td>\n",
       "      <td>NaN</td>\n",
       "      <td>NaN</td>\n",
       "      <td>3.0</td>\n",
       "      <td>5.0</td>\n",
       "    </tr>\n",
       "    <tr>\n",
       "      <th>Transwoman (MTF)</th>\n",
       "      <td>4.0</td>\n",
       "      <td>8.0</td>\n",
       "      <td>1.0</td>\n",
       "      <td>NaN</td>\n",
       "      <td>NaN</td>\n",
       "      <td>NaN</td>\n",
       "      <td>2.0</td>\n",
       "      <td>NaN</td>\n",
       "      <td>NaN</td>\n",
       "      <td>5.0</td>\n",
       "      <td>20.0</td>\n",
       "    </tr>\n",
       "  </tbody>\n",
       "</table>\n",
       "</div>"
      ],
      "text/plain": [
       "board_disposition      Exonerated  Substantiated (Charges)  \\\n",
       "complainant_gender                                           \n",
       "Female                     1409.0                    362.0   \n",
       "Gender non-conforming         NaN                      NaN   \n",
       "Male                       6567.0                   2944.0   \n",
       "Not described                21.0                      NaN   \n",
       "Transman (FTM)                NaN                      NaN   \n",
       "Transwoman (MTF)              4.0                      8.0   \n",
       "\n",
       "board_disposition      Substantiated (Command Discipline A)  \\\n",
       "complainant_gender                                            \n",
       "Female                                                115.0   \n",
       "Gender non-conforming                                   NaN   \n",
       "Male                                                  752.0   \n",
       "Not described                                           4.0   \n",
       "Transman (FTM)                                          NaN   \n",
       "Transwoman (MTF)                                        1.0   \n",
       "\n",
       "board_disposition      Substantiated (Command Discipline B)  \\\n",
       "complainant_gender                                            \n",
       "Female                                                112.0   \n",
       "Gender non-conforming                                   NaN   \n",
       "Male                                                  600.0   \n",
       "Not described                                           1.0   \n",
       "Transman (FTM)                                          2.0   \n",
       "Transwoman (MTF)                                        NaN   \n",
       "\n",
       "board_disposition      Substantiated (Command Discipline)  \\\n",
       "complainant_gender                                          \n",
       "Female                                              110.0   \n",
       "Gender non-conforming                                 NaN   \n",
       "Male                                                600.0   \n",
       "Not described                                         NaN   \n",
       "Transman (FTM)                                        NaN   \n",
       "Transwoman (MTF)                                      NaN   \n",
       "\n",
       "board_disposition      Substantiated (Command Lvl Instructions)  \\\n",
       "complainant_gender                                                \n",
       "Female                                                     88.0   \n",
       "Gender non-conforming                                       2.0   \n",
       "Male                                                      317.0   \n",
       "Not described                                               3.0   \n",
       "Transman (FTM)                                              NaN   \n",
       "Transwoman (MTF)                                            NaN   \n",
       "\n",
       "board_disposition      Substantiated (Formalized Training)  \\\n",
       "complainant_gender                                           \n",
       "Female                                               180.0   \n",
       "Gender non-conforming                                  NaN   \n",
       "Male                                                 713.0   \n",
       "Not described                                          6.0   \n",
       "Transman (FTM)                                         NaN   \n",
       "Transwoman (MTF)                                       2.0   \n",
       "\n",
       "board_disposition      Substantiated (Instructions)  \\\n",
       "complainant_gender                                    \n",
       "Female                                         47.0   \n",
       "Gender non-conforming                           NaN   \n",
       "Male                                          171.0   \n",
       "Not described                                   NaN   \n",
       "Transman (FTM)                                  NaN   \n",
       "Transwoman (MTF)                                NaN   \n",
       "\n",
       "board_disposition      Substantiated (No Recommendations)  Unsubstantiated  \\\n",
       "complainant_gender                                                           \n",
       "Female                                                9.0           2561.0   \n",
       "Gender non-conforming                                 NaN              NaN   \n",
       "Male                                                 50.0          11327.0   \n",
       "Not described                                         NaN             22.0   \n",
       "Transman (FTM)                                        NaN              3.0   \n",
       "Transwoman (MTF)                                      NaN              5.0   \n",
       "\n",
       "board_disposition      Total Count  \n",
       "complainant_gender                  \n",
       "Female                      4993.0  \n",
       "Gender non-conforming          2.0  \n",
       "Male                       24041.0  \n",
       "Not described                 57.0  \n",
       "Transman (FTM)                 5.0  \n",
       "Transwoman (MTF)              20.0  "
      ]
     },
     "execution_count": 169,
     "metadata": {},
     "output_type": "execute_result"
    }
   ],
   "source": [
    "outcomes = pd.pivot_table(df, values = 'outcome_description',index ='complainant_gender', columns='board_disposition',  aggfunc='count')\n",
    "outcomes['Total Count'] = outcomes.sum(axis=1)\n",
    "outcomes"
   ]
  },
  {
   "cell_type": "markdown",
   "metadata": {},
   "source": [
    "All of the columns that denote the \"Substantiated\" results are also summed into their own column for convenience. A `Total Count` row is also added to display the sum of all counts column-wise."
   ]
  },
  {
   "cell_type": "code",
   "execution_count": 170,
   "metadata": {},
   "outputs": [
    {
     "data": {
      "text/html": [
       "<div>\n",
       "<style scoped>\n",
       "    .dataframe tbody tr th:only-of-type {\n",
       "        vertical-align: middle;\n",
       "    }\n",
       "\n",
       "    .dataframe tbody tr th {\n",
       "        vertical-align: top;\n",
       "    }\n",
       "\n",
       "    .dataframe thead th {\n",
       "        text-align: right;\n",
       "    }\n",
       "</style>\n",
       "<table border=\"1\" class=\"dataframe\">\n",
       "  <thead>\n",
       "    <tr style=\"text-align: right;\">\n",
       "      <th>board_disposition</th>\n",
       "      <th>Exonerated</th>\n",
       "      <th>Substantiated (Charges)</th>\n",
       "      <th>Substantiated (Command Discipline A)</th>\n",
       "      <th>Substantiated (Command Discipline B)</th>\n",
       "      <th>Substantiated (Command Discipline)</th>\n",
       "      <th>Substantiated (Command Lvl Instructions)</th>\n",
       "      <th>Substantiated (Formalized Training)</th>\n",
       "      <th>Substantiated (Instructions)</th>\n",
       "      <th>Substantiated (No Recommendations)</th>\n",
       "      <th>Unsubstantiated</th>\n",
       "      <th>Total Count</th>\n",
       "      <th>Substantiated (Total)</th>\n",
       "    </tr>\n",
       "    <tr>\n",
       "      <th>complainant_gender</th>\n",
       "      <th></th>\n",
       "      <th></th>\n",
       "      <th></th>\n",
       "      <th></th>\n",
       "      <th></th>\n",
       "      <th></th>\n",
       "      <th></th>\n",
       "      <th></th>\n",
       "      <th></th>\n",
       "      <th></th>\n",
       "      <th></th>\n",
       "      <th></th>\n",
       "    </tr>\n",
       "  </thead>\n",
       "  <tbody>\n",
       "    <tr>\n",
       "      <th>Female</th>\n",
       "      <td>1409.0</td>\n",
       "      <td>362.0</td>\n",
       "      <td>115.0</td>\n",
       "      <td>112.0</td>\n",
       "      <td>110.0</td>\n",
       "      <td>88.0</td>\n",
       "      <td>180.0</td>\n",
       "      <td>47.0</td>\n",
       "      <td>9.0</td>\n",
       "      <td>2561.0</td>\n",
       "      <td>4993.0</td>\n",
       "      <td>1023.0</td>\n",
       "    </tr>\n",
       "    <tr>\n",
       "      <th>Gender non-conforming</th>\n",
       "      <td>NaN</td>\n",
       "      <td>NaN</td>\n",
       "      <td>NaN</td>\n",
       "      <td>NaN</td>\n",
       "      <td>NaN</td>\n",
       "      <td>2.0</td>\n",
       "      <td>NaN</td>\n",
       "      <td>NaN</td>\n",
       "      <td>NaN</td>\n",
       "      <td>NaN</td>\n",
       "      <td>2.0</td>\n",
       "      <td>2.0</td>\n",
       "    </tr>\n",
       "    <tr>\n",
       "      <th>Male</th>\n",
       "      <td>6567.0</td>\n",
       "      <td>2944.0</td>\n",
       "      <td>752.0</td>\n",
       "      <td>600.0</td>\n",
       "      <td>600.0</td>\n",
       "      <td>317.0</td>\n",
       "      <td>713.0</td>\n",
       "      <td>171.0</td>\n",
       "      <td>50.0</td>\n",
       "      <td>11327.0</td>\n",
       "      <td>24041.0</td>\n",
       "      <td>6147.0</td>\n",
       "    </tr>\n",
       "    <tr>\n",
       "      <th>Not described</th>\n",
       "      <td>21.0</td>\n",
       "      <td>NaN</td>\n",
       "      <td>4.0</td>\n",
       "      <td>1.0</td>\n",
       "      <td>NaN</td>\n",
       "      <td>3.0</td>\n",
       "      <td>6.0</td>\n",
       "      <td>NaN</td>\n",
       "      <td>NaN</td>\n",
       "      <td>22.0</td>\n",
       "      <td>57.0</td>\n",
       "      <td>14.0</td>\n",
       "    </tr>\n",
       "    <tr>\n",
       "      <th>Transman (FTM)</th>\n",
       "      <td>NaN</td>\n",
       "      <td>NaN</td>\n",
       "      <td>NaN</td>\n",
       "      <td>2.0</td>\n",
       "      <td>NaN</td>\n",
       "      <td>NaN</td>\n",
       "      <td>NaN</td>\n",
       "      <td>NaN</td>\n",
       "      <td>NaN</td>\n",
       "      <td>3.0</td>\n",
       "      <td>5.0</td>\n",
       "      <td>2.0</td>\n",
       "    </tr>\n",
       "    <tr>\n",
       "      <th>Transwoman (MTF)</th>\n",
       "      <td>4.0</td>\n",
       "      <td>8.0</td>\n",
       "      <td>1.0</td>\n",
       "      <td>NaN</td>\n",
       "      <td>NaN</td>\n",
       "      <td>NaN</td>\n",
       "      <td>2.0</td>\n",
       "      <td>NaN</td>\n",
       "      <td>NaN</td>\n",
       "      <td>5.0</td>\n",
       "      <td>20.0</td>\n",
       "      <td>11.0</td>\n",
       "    </tr>\n",
       "    <tr>\n",
       "      <th>Total Count</th>\n",
       "      <td>8001.0</td>\n",
       "      <td>3314.0</td>\n",
       "      <td>872.0</td>\n",
       "      <td>715.0</td>\n",
       "      <td>710.0</td>\n",
       "      <td>410.0</td>\n",
       "      <td>901.0</td>\n",
       "      <td>218.0</td>\n",
       "      <td>59.0</td>\n",
       "      <td>13918.0</td>\n",
       "      <td>29118.0</td>\n",
       "      <td>7199.0</td>\n",
       "    </tr>\n",
       "  </tbody>\n",
       "</table>\n",
       "</div>"
      ],
      "text/plain": [
       "board_disposition      Exonerated  Substantiated (Charges)  \\\n",
       "complainant_gender                                           \n",
       "Female                     1409.0                    362.0   \n",
       "Gender non-conforming         NaN                      NaN   \n",
       "Male                       6567.0                   2944.0   \n",
       "Not described                21.0                      NaN   \n",
       "Transman (FTM)                NaN                      NaN   \n",
       "Transwoman (MTF)              4.0                      8.0   \n",
       "Total Count                8001.0                   3314.0   \n",
       "\n",
       "board_disposition      Substantiated (Command Discipline A)  \\\n",
       "complainant_gender                                            \n",
       "Female                                                115.0   \n",
       "Gender non-conforming                                   NaN   \n",
       "Male                                                  752.0   \n",
       "Not described                                           4.0   \n",
       "Transman (FTM)                                          NaN   \n",
       "Transwoman (MTF)                                        1.0   \n",
       "Total Count                                           872.0   \n",
       "\n",
       "board_disposition      Substantiated (Command Discipline B)  \\\n",
       "complainant_gender                                            \n",
       "Female                                                112.0   \n",
       "Gender non-conforming                                   NaN   \n",
       "Male                                                  600.0   \n",
       "Not described                                           1.0   \n",
       "Transman (FTM)                                          2.0   \n",
       "Transwoman (MTF)                                        NaN   \n",
       "Total Count                                           715.0   \n",
       "\n",
       "board_disposition      Substantiated (Command Discipline)  \\\n",
       "complainant_gender                                          \n",
       "Female                                              110.0   \n",
       "Gender non-conforming                                 NaN   \n",
       "Male                                                600.0   \n",
       "Not described                                         NaN   \n",
       "Transman (FTM)                                        NaN   \n",
       "Transwoman (MTF)                                      NaN   \n",
       "Total Count                                         710.0   \n",
       "\n",
       "board_disposition      Substantiated (Command Lvl Instructions)  \\\n",
       "complainant_gender                                                \n",
       "Female                                                     88.0   \n",
       "Gender non-conforming                                       2.0   \n",
       "Male                                                      317.0   \n",
       "Not described                                               3.0   \n",
       "Transman (FTM)                                              NaN   \n",
       "Transwoman (MTF)                                            NaN   \n",
       "Total Count                                               410.0   \n",
       "\n",
       "board_disposition      Substantiated (Formalized Training)  \\\n",
       "complainant_gender                                           \n",
       "Female                                               180.0   \n",
       "Gender non-conforming                                  NaN   \n",
       "Male                                                 713.0   \n",
       "Not described                                          6.0   \n",
       "Transman (FTM)                                         NaN   \n",
       "Transwoman (MTF)                                       2.0   \n",
       "Total Count                                          901.0   \n",
       "\n",
       "board_disposition      Substantiated (Instructions)  \\\n",
       "complainant_gender                                    \n",
       "Female                                         47.0   \n",
       "Gender non-conforming                           NaN   \n",
       "Male                                          171.0   \n",
       "Not described                                   NaN   \n",
       "Transman (FTM)                                  NaN   \n",
       "Transwoman (MTF)                                NaN   \n",
       "Total Count                                   218.0   \n",
       "\n",
       "board_disposition      Substantiated (No Recommendations)  Unsubstantiated  \\\n",
       "complainant_gender                                                           \n",
       "Female                                                9.0           2561.0   \n",
       "Gender non-conforming                                 NaN              NaN   \n",
       "Male                                                 50.0          11327.0   \n",
       "Not described                                         NaN             22.0   \n",
       "Transman (FTM)                                        NaN              3.0   \n",
       "Transwoman (MTF)                                      NaN              5.0   \n",
       "Total Count                                          59.0          13918.0   \n",
       "\n",
       "board_disposition      Total Count  Substantiated (Total)  \n",
       "complainant_gender                                         \n",
       "Female                      4993.0                 1023.0  \n",
       "Gender non-conforming          2.0                    2.0  \n",
       "Male                       24041.0                 6147.0  \n",
       "Not described                 57.0                   14.0  \n",
       "Transman (FTM)                 5.0                    2.0  \n",
       "Transwoman (MTF)              20.0                   11.0  \n",
       "Total Count                29118.0                 7199.0  "
      ]
     },
     "execution_count": 170,
     "metadata": {},
     "output_type": "execute_result"
    }
   ],
   "source": [
    "outcomes['Substantiated (Total)'] = outcomes[outcomes.columns[outcomes.columns.str.contains('ed \\(')]].sum(axis=1)\n",
    "outcomes.append(pd.Series(outcomes.sum(axis=0),name='Total Count'))"
   ]
  },
  {
   "cell_type": "markdown",
   "metadata": {},
   "source": [
    "We can also calculate the percentage that each value makes up for each outcome.\n",
    "We now know that, for example, around 81% of all rejected (unsubstantiated) complaints are  filed by men, but also that 82% of all complaints are filed by men."
   ]
  },
  {
   "cell_type": "code",
   "execution_count": 171,
   "metadata": {},
   "outputs": [
    {
     "data": {
      "text/html": [
       "<div>\n",
       "<style scoped>\n",
       "    .dataframe tbody tr th:only-of-type {\n",
       "        vertical-align: middle;\n",
       "    }\n",
       "\n",
       "    .dataframe tbody tr th {\n",
       "        vertical-align: top;\n",
       "    }\n",
       "\n",
       "    .dataframe thead th {\n",
       "        text-align: right;\n",
       "    }\n",
       "</style>\n",
       "<table border=\"1\" class=\"dataframe\">\n",
       "  <thead>\n",
       "    <tr style=\"text-align: right;\">\n",
       "      <th>board_disposition</th>\n",
       "      <th>Exonerated</th>\n",
       "      <th>Substantiated (Charges)</th>\n",
       "      <th>Substantiated (Command Discipline A)</th>\n",
       "      <th>Substantiated (Command Discipline B)</th>\n",
       "      <th>Substantiated (Command Discipline)</th>\n",
       "      <th>Substantiated (Command Lvl Instructions)</th>\n",
       "      <th>Substantiated (Formalized Training)</th>\n",
       "      <th>Substantiated (Instructions)</th>\n",
       "      <th>Substantiated (No Recommendations)</th>\n",
       "      <th>Unsubstantiated</th>\n",
       "      <th>Total Count</th>\n",
       "      <th>Substantiated (Total)</th>\n",
       "    </tr>\n",
       "    <tr>\n",
       "      <th>complainant_gender</th>\n",
       "      <th></th>\n",
       "      <th></th>\n",
       "      <th></th>\n",
       "      <th></th>\n",
       "      <th></th>\n",
       "      <th></th>\n",
       "      <th></th>\n",
       "      <th></th>\n",
       "      <th></th>\n",
       "      <th></th>\n",
       "      <th></th>\n",
       "      <th></th>\n",
       "    </tr>\n",
       "  </thead>\n",
       "  <tbody>\n",
       "    <tr>\n",
       "      <th>Female</th>\n",
       "      <td>17.61</td>\n",
       "      <td>10.92</td>\n",
       "      <td>13.19</td>\n",
       "      <td>15.66</td>\n",
       "      <td>15.49</td>\n",
       "      <td>21.46</td>\n",
       "      <td>19.98</td>\n",
       "      <td>21.56</td>\n",
       "      <td>15.25</td>\n",
       "      <td>18.40</td>\n",
       "      <td>17.15</td>\n",
       "      <td>14.21</td>\n",
       "    </tr>\n",
       "    <tr>\n",
       "      <th>Gender non-conforming</th>\n",
       "      <td>NaN</td>\n",
       "      <td>NaN</td>\n",
       "      <td>NaN</td>\n",
       "      <td>NaN</td>\n",
       "      <td>NaN</td>\n",
       "      <td>0.49</td>\n",
       "      <td>NaN</td>\n",
       "      <td>NaN</td>\n",
       "      <td>NaN</td>\n",
       "      <td>NaN</td>\n",
       "      <td>0.01</td>\n",
       "      <td>0.03</td>\n",
       "    </tr>\n",
       "    <tr>\n",
       "      <th>Male</th>\n",
       "      <td>82.08</td>\n",
       "      <td>88.84</td>\n",
       "      <td>86.24</td>\n",
       "      <td>83.92</td>\n",
       "      <td>84.51</td>\n",
       "      <td>77.32</td>\n",
       "      <td>79.13</td>\n",
       "      <td>78.44</td>\n",
       "      <td>84.75</td>\n",
       "      <td>81.38</td>\n",
       "      <td>82.56</td>\n",
       "      <td>85.39</td>\n",
       "    </tr>\n",
       "    <tr>\n",
       "      <th>Not described</th>\n",
       "      <td>0.26</td>\n",
       "      <td>NaN</td>\n",
       "      <td>0.46</td>\n",
       "      <td>0.14</td>\n",
       "      <td>NaN</td>\n",
       "      <td>0.73</td>\n",
       "      <td>0.67</td>\n",
       "      <td>NaN</td>\n",
       "      <td>NaN</td>\n",
       "      <td>0.16</td>\n",
       "      <td>0.20</td>\n",
       "      <td>0.19</td>\n",
       "    </tr>\n",
       "    <tr>\n",
       "      <th>Transman (FTM)</th>\n",
       "      <td>NaN</td>\n",
       "      <td>NaN</td>\n",
       "      <td>NaN</td>\n",
       "      <td>0.28</td>\n",
       "      <td>NaN</td>\n",
       "      <td>NaN</td>\n",
       "      <td>NaN</td>\n",
       "      <td>NaN</td>\n",
       "      <td>NaN</td>\n",
       "      <td>0.02</td>\n",
       "      <td>0.02</td>\n",
       "      <td>0.03</td>\n",
       "    </tr>\n",
       "    <tr>\n",
       "      <th>Transwoman (MTF)</th>\n",
       "      <td>0.05</td>\n",
       "      <td>0.24</td>\n",
       "      <td>0.11</td>\n",
       "      <td>NaN</td>\n",
       "      <td>NaN</td>\n",
       "      <td>NaN</td>\n",
       "      <td>0.22</td>\n",
       "      <td>NaN</td>\n",
       "      <td>NaN</td>\n",
       "      <td>0.04</td>\n",
       "      <td>0.07</td>\n",
       "      <td>0.15</td>\n",
       "    </tr>\n",
       "  </tbody>\n",
       "</table>\n",
       "</div>"
      ],
      "text/plain": [
       "board_disposition      Exonerated  Substantiated (Charges)  \\\n",
       "complainant_gender                                           \n",
       "Female                      17.61                    10.92   \n",
       "Gender non-conforming         NaN                      NaN   \n",
       "Male                        82.08                    88.84   \n",
       "Not described                0.26                      NaN   \n",
       "Transman (FTM)                NaN                      NaN   \n",
       "Transwoman (MTF)             0.05                     0.24   \n",
       "\n",
       "board_disposition      Substantiated (Command Discipline A)  \\\n",
       "complainant_gender                                            \n",
       "Female                                                13.19   \n",
       "Gender non-conforming                                   NaN   \n",
       "Male                                                  86.24   \n",
       "Not described                                          0.46   \n",
       "Transman (FTM)                                          NaN   \n",
       "Transwoman (MTF)                                       0.11   \n",
       "\n",
       "board_disposition      Substantiated (Command Discipline B)  \\\n",
       "complainant_gender                                            \n",
       "Female                                                15.66   \n",
       "Gender non-conforming                                   NaN   \n",
       "Male                                                  83.92   \n",
       "Not described                                          0.14   \n",
       "Transman (FTM)                                         0.28   \n",
       "Transwoman (MTF)                                        NaN   \n",
       "\n",
       "board_disposition      Substantiated (Command Discipline)  \\\n",
       "complainant_gender                                          \n",
       "Female                                              15.49   \n",
       "Gender non-conforming                                 NaN   \n",
       "Male                                                84.51   \n",
       "Not described                                         NaN   \n",
       "Transman (FTM)                                        NaN   \n",
       "Transwoman (MTF)                                      NaN   \n",
       "\n",
       "board_disposition      Substantiated (Command Lvl Instructions)  \\\n",
       "complainant_gender                                                \n",
       "Female                                                    21.46   \n",
       "Gender non-conforming                                      0.49   \n",
       "Male                                                      77.32   \n",
       "Not described                                              0.73   \n",
       "Transman (FTM)                                              NaN   \n",
       "Transwoman (MTF)                                            NaN   \n",
       "\n",
       "board_disposition      Substantiated (Formalized Training)  \\\n",
       "complainant_gender                                           \n",
       "Female                                               19.98   \n",
       "Gender non-conforming                                  NaN   \n",
       "Male                                                 79.13   \n",
       "Not described                                         0.67   \n",
       "Transman (FTM)                                         NaN   \n",
       "Transwoman (MTF)                                      0.22   \n",
       "\n",
       "board_disposition      Substantiated (Instructions)  \\\n",
       "complainant_gender                                    \n",
       "Female                                        21.56   \n",
       "Gender non-conforming                           NaN   \n",
       "Male                                          78.44   \n",
       "Not described                                   NaN   \n",
       "Transman (FTM)                                  NaN   \n",
       "Transwoman (MTF)                                NaN   \n",
       "\n",
       "board_disposition      Substantiated (No Recommendations)  Unsubstantiated  \\\n",
       "complainant_gender                                                           \n",
       "Female                                              15.25            18.40   \n",
       "Gender non-conforming                                 NaN              NaN   \n",
       "Male                                                84.75            81.38   \n",
       "Not described                                         NaN             0.16   \n",
       "Transman (FTM)                                        NaN             0.02   \n",
       "Transwoman (MTF)                                      NaN             0.04   \n",
       "\n",
       "board_disposition      Total Count  Substantiated (Total)  \n",
       "complainant_gender                                         \n",
       "Female                       17.15                  14.21  \n",
       "Gender non-conforming         0.01                   0.03  \n",
       "Male                         82.56                  85.39  \n",
       "Not described                 0.20                   0.19  \n",
       "Transman (FTM)                0.02                   0.03  \n",
       "Transwoman (MTF)              0.07                   0.15  "
      ]
     },
     "execution_count": 171,
     "metadata": {},
     "output_type": "execute_result"
    }
   ],
   "source": [
    "round(outcomes.div(outcomes.sum(axis=0),axis=1)*100,2)"
   ]
  },
  {
   "cell_type": "markdown",
   "metadata": {},
   "source": [
    "Likewise, below is a pivot table that describes the percentage of each outcome, grouped by gender.\n",
    "For example, 51.29% of women had their complaints fail, while 47.12% of men had their complaints fail."
   ]
  },
  {
   "cell_type": "code",
   "execution_count": 172,
   "metadata": {},
   "outputs": [
    {
     "data": {
      "text/html": [
       "<div>\n",
       "<style scoped>\n",
       "    .dataframe tbody tr th:only-of-type {\n",
       "        vertical-align: middle;\n",
       "    }\n",
       "\n",
       "    .dataframe tbody tr th {\n",
       "        vertical-align: top;\n",
       "    }\n",
       "\n",
       "    .dataframe thead th {\n",
       "        text-align: right;\n",
       "    }\n",
       "</style>\n",
       "<table border=\"1\" class=\"dataframe\">\n",
       "  <thead>\n",
       "    <tr style=\"text-align: right;\">\n",
       "      <th>board_disposition</th>\n",
       "      <th>Exonerated</th>\n",
       "      <th>Substantiated (Charges)</th>\n",
       "      <th>Substantiated (Command Discipline A)</th>\n",
       "      <th>Substantiated (Command Discipline B)</th>\n",
       "      <th>Substantiated (Command Discipline)</th>\n",
       "      <th>Substantiated (Command Lvl Instructions)</th>\n",
       "      <th>Substantiated (Formalized Training)</th>\n",
       "      <th>Substantiated (Instructions)</th>\n",
       "      <th>Substantiated (No Recommendations)</th>\n",
       "      <th>Unsubstantiated</th>\n",
       "      <th>Substantiated (Total)</th>\n",
       "    </tr>\n",
       "    <tr>\n",
       "      <th>complainant_gender</th>\n",
       "      <th></th>\n",
       "      <th></th>\n",
       "      <th></th>\n",
       "      <th></th>\n",
       "      <th></th>\n",
       "      <th></th>\n",
       "      <th></th>\n",
       "      <th></th>\n",
       "      <th></th>\n",
       "      <th></th>\n",
       "      <th></th>\n",
       "    </tr>\n",
       "  </thead>\n",
       "  <tbody>\n",
       "    <tr>\n",
       "      <th>Female</th>\n",
       "      <td>28.22</td>\n",
       "      <td>7.25</td>\n",
       "      <td>2.30</td>\n",
       "      <td>2.24</td>\n",
       "      <td>2.2</td>\n",
       "      <td>1.76</td>\n",
       "      <td>3.61</td>\n",
       "      <td>0.94</td>\n",
       "      <td>0.18</td>\n",
       "      <td>51.29</td>\n",
       "      <td>20.48</td>\n",
       "    </tr>\n",
       "    <tr>\n",
       "      <th>Gender non-conforming</th>\n",
       "      <td>NaN</td>\n",
       "      <td>NaN</td>\n",
       "      <td>NaN</td>\n",
       "      <td>NaN</td>\n",
       "      <td>NaN</td>\n",
       "      <td>100.00</td>\n",
       "      <td>NaN</td>\n",
       "      <td>NaN</td>\n",
       "      <td>NaN</td>\n",
       "      <td>NaN</td>\n",
       "      <td>100.00</td>\n",
       "    </tr>\n",
       "    <tr>\n",
       "      <th>Male</th>\n",
       "      <td>27.32</td>\n",
       "      <td>12.25</td>\n",
       "      <td>3.13</td>\n",
       "      <td>2.50</td>\n",
       "      <td>2.5</td>\n",
       "      <td>1.32</td>\n",
       "      <td>2.97</td>\n",
       "      <td>0.71</td>\n",
       "      <td>0.21</td>\n",
       "      <td>47.12</td>\n",
       "      <td>25.59</td>\n",
       "    </tr>\n",
       "    <tr>\n",
       "      <th>Not described</th>\n",
       "      <td>36.84</td>\n",
       "      <td>NaN</td>\n",
       "      <td>7.02</td>\n",
       "      <td>1.75</td>\n",
       "      <td>NaN</td>\n",
       "      <td>5.26</td>\n",
       "      <td>10.53</td>\n",
       "      <td>NaN</td>\n",
       "      <td>NaN</td>\n",
       "      <td>38.60</td>\n",
       "      <td>24.56</td>\n",
       "    </tr>\n",
       "    <tr>\n",
       "      <th>Transman (FTM)</th>\n",
       "      <td>NaN</td>\n",
       "      <td>NaN</td>\n",
       "      <td>NaN</td>\n",
       "      <td>40.00</td>\n",
       "      <td>NaN</td>\n",
       "      <td>NaN</td>\n",
       "      <td>NaN</td>\n",
       "      <td>NaN</td>\n",
       "      <td>NaN</td>\n",
       "      <td>60.00</td>\n",
       "      <td>40.00</td>\n",
       "    </tr>\n",
       "    <tr>\n",
       "      <th>Transwoman (MTF)</th>\n",
       "      <td>20.00</td>\n",
       "      <td>40.00</td>\n",
       "      <td>5.00</td>\n",
       "      <td>NaN</td>\n",
       "      <td>NaN</td>\n",
       "      <td>NaN</td>\n",
       "      <td>10.00</td>\n",
       "      <td>NaN</td>\n",
       "      <td>NaN</td>\n",
       "      <td>25.00</td>\n",
       "      <td>55.00</td>\n",
       "    </tr>\n",
       "  </tbody>\n",
       "</table>\n",
       "</div>"
      ],
      "text/plain": [
       "board_disposition      Exonerated  Substantiated (Charges)  \\\n",
       "complainant_gender                                           \n",
       "Female                      28.22                     7.25   \n",
       "Gender non-conforming         NaN                      NaN   \n",
       "Male                        27.32                    12.25   \n",
       "Not described               36.84                      NaN   \n",
       "Transman (FTM)                NaN                      NaN   \n",
       "Transwoman (MTF)            20.00                    40.00   \n",
       "\n",
       "board_disposition      Substantiated (Command Discipline A)  \\\n",
       "complainant_gender                                            \n",
       "Female                                                 2.30   \n",
       "Gender non-conforming                                   NaN   \n",
       "Male                                                   3.13   \n",
       "Not described                                          7.02   \n",
       "Transman (FTM)                                          NaN   \n",
       "Transwoman (MTF)                                       5.00   \n",
       "\n",
       "board_disposition      Substantiated (Command Discipline B)  \\\n",
       "complainant_gender                                            \n",
       "Female                                                 2.24   \n",
       "Gender non-conforming                                   NaN   \n",
       "Male                                                   2.50   \n",
       "Not described                                          1.75   \n",
       "Transman (FTM)                                        40.00   \n",
       "Transwoman (MTF)                                        NaN   \n",
       "\n",
       "board_disposition      Substantiated (Command Discipline)  \\\n",
       "complainant_gender                                          \n",
       "Female                                                2.2   \n",
       "Gender non-conforming                                 NaN   \n",
       "Male                                                  2.5   \n",
       "Not described                                         NaN   \n",
       "Transman (FTM)                                        NaN   \n",
       "Transwoman (MTF)                                      NaN   \n",
       "\n",
       "board_disposition      Substantiated (Command Lvl Instructions)  \\\n",
       "complainant_gender                                                \n",
       "Female                                                     1.76   \n",
       "Gender non-conforming                                    100.00   \n",
       "Male                                                       1.32   \n",
       "Not described                                              5.26   \n",
       "Transman (FTM)                                              NaN   \n",
       "Transwoman (MTF)                                            NaN   \n",
       "\n",
       "board_disposition      Substantiated (Formalized Training)  \\\n",
       "complainant_gender                                           \n",
       "Female                                                3.61   \n",
       "Gender non-conforming                                  NaN   \n",
       "Male                                                  2.97   \n",
       "Not described                                        10.53   \n",
       "Transman (FTM)                                         NaN   \n",
       "Transwoman (MTF)                                     10.00   \n",
       "\n",
       "board_disposition      Substantiated (Instructions)  \\\n",
       "complainant_gender                                    \n",
       "Female                                         0.94   \n",
       "Gender non-conforming                           NaN   \n",
       "Male                                           0.71   \n",
       "Not described                                   NaN   \n",
       "Transman (FTM)                                  NaN   \n",
       "Transwoman (MTF)                                NaN   \n",
       "\n",
       "board_disposition      Substantiated (No Recommendations)  Unsubstantiated  \\\n",
       "complainant_gender                                                           \n",
       "Female                                               0.18            51.29   \n",
       "Gender non-conforming                                 NaN              NaN   \n",
       "Male                                                 0.21            47.12   \n",
       "Not described                                         NaN            38.60   \n",
       "Transman (FTM)                                        NaN            60.00   \n",
       "Transwoman (MTF)                                      NaN            25.00   \n",
       "\n",
       "board_disposition      Substantiated (Total)  \n",
       "complainant_gender                            \n",
       "Female                                 20.48  \n",
       "Gender non-conforming                 100.00  \n",
       "Male                                   25.59  \n",
       "Not described                          24.56  \n",
       "Transman (FTM)                         40.00  \n",
       "Transwoman (MTF)                       55.00  "
      ]
     },
     "execution_count": 172,
     "metadata": {},
     "output_type": "execute_result"
    }
   ],
   "source": [
    "orig = outcomes.drop('Substantiated (Total)',axis=1).drop('Total Count',axis=1)\n",
    "orig = round(orig.div(orig.sum(axis=1), axis=0) * 100, 2) #convert to %\n",
    "orig['Substantiated (Total)'] = orig[orig.columns[orig.columns.str.contains('ed \\(')]].sum(axis=1) #add Substantiated (Total) back\n",
    "orig"
   ]
  },
  {
   "cell_type": "markdown",
   "metadata": {},
   "source": [
    "We also use the `groupby()` function to show the overall breakdown of outcomes. Lines 2-4 in the code block below calculate the sum of all of the \"Substantiated\" charges, and saves, as well as displays, the count as \"Substantiated (Total)\"."
   ]
  },
  {
   "cell_type": "code",
   "execution_count": 173,
   "metadata": {},
   "outputs": [
    {
     "data": {
      "text/plain": [
       "board_disposition\n",
       "Unsubstantiated                             13918\n",
       "Exonerated                                   8001\n",
       "Substantiated (Total)                        7199\n",
       "Substantiated (Charges)                      3314\n",
       "Substantiated (Formalized Training)           901\n",
       "Substantiated (Command Discipline A)          872\n",
       "Substantiated (Command Discipline B)          715\n",
       "Substantiated (Command Discipline)            710\n",
       "Substantiated (Command Lvl Instructions)      410\n",
       "Substantiated (Instructions)                  218\n",
       "Substantiated (No Recommendations)             59\n",
       "dtype: int64"
      ]
     },
     "execution_count": 173,
     "metadata": {},
     "output_type": "execute_result"
    }
   ],
   "source": [
    "grp = df.groupby('board_disposition').size()\n",
    "temp = pd.Series(grp)\n",
    "temp['Substantiated (Total)'] = grp.loc[grp.index.str.contains(\"ated \\(\")].sum()\n",
    "temp.sort_values(ascending=False)"
   ]
  },
  {
   "cell_type": "markdown",
   "metadata": {},
   "source": [
    "The code block below plots the distribution of Male and Female outcomes next to each other."
   ]
  },
  {
   "cell_type": "code",
   "execution_count": 174,
   "metadata": {},
   "outputs": [
    {
     "data": {
      "image/png": "[encoded data removed]",
      "text/plain": [
       "<Figure size 432x288 with 1 Axes>"
      ]
     },
     "metadata": {
      "image/png": {
       "height": 451,
       "width": 388
      },
      "needs_background": "light"
     },
     "output_type": "display_data"
    }
   ],
   "source": [
    "f = outcomes.drop(['Total Count','Substantiated (Total)'],axis=1).loc[\"Female\"]\n",
    "m = outcomes.drop(['Total Count','Substantiated (Total)'],axis=1).loc[\"Male\"]\n",
    "data = [f.to_list(),\n",
    "  m.to_list()]\n",
    "\n",
    "X = np.arange(10)\n",
    "plt.bar(X + 0, data[0], color = 'r', width = 0.4)\n",
    "plt.bar(X + 0.4, data[1], color = 'b', width = 0.4)\n",
    "\n",
    "plt.xticks(X, f.index.to_list(),rotation=90)\n",
    "\n",
    "plt.show()"
   ]
  },
  {
   "cell_type": "markdown",
   "metadata": {},
   "source": [
    "At first glance it seems like these two samples may be drawn from the same distribution, i.e. men's and women's complaints receive unbiased treatment from the CCRB, but further testing is needed to confirm."
   ]
  },
  {
   "cell_type": "markdown",
   "metadata": {},
   "source": [
    "### Assessment of Missingness\n",
    "\n",
    "We observe that around 13% of the filled-in genders are missing/have NaN values."
   ]
  },
  {
   "cell_type": "code",
   "execution_count": 175,
   "metadata": {},
   "outputs": [
    {
     "data": {
      "text/plain": [
       "'13.0%'"
      ]
     },
     "execution_count": 175,
     "metadata": {},
     "output_type": "execute_result"
    }
   ],
   "source": [
    "(str)(round(allegations['complainant_gender'].isna().sum() / len(allegations), 2)*100) + \"%\""
   ]
  },
  {
   "cell_type": "markdown",
   "metadata": {},
   "source": [
    " We would like to investigate if this missingness depends on:\n",
    "\n",
    "1. The category of complaints that was made (FADO type). This allows us to investigate if a certain allegation category is related to a person's gender being missing (potentially due to bias). \n",
    "2. The precinct where the allegation was received. Under the assumption that complainants self-report gender, gender missingness would theoretically be independent of precinct.\n",
    "\n",
    "#### 1. Missing Gender vs FADO Type\n",
    "To achieve this, we run a hypothesis test under the following assumptions:\n",
    "- Null hypothesis: The missingnness in the gender column is missing completely at random.\n",
    "- Alternative hypothesis: The missingness in the gender column is dependent on FADO Type.\n",
    "- A significance level of 5% (0.05).\n",
    "\n",
    "An `isnull` column is created using the `isnull()` function, that uses `True` to denote a NaN value, and `False` to denote no missing value. Then, the `groupby()` function is used on column `isnull` to calculate the proportion of each type of FADO that is, or is not, null. This is thenn displayed in a dataframe for convenience:"
   ]
  },
  {
   "cell_type": "code",
   "execution_count": 176,
   "metadata": {},
   "outputs": [
    {
     "data": {
      "text/html": [
       "<div>\n",
       "<style scoped>\n",
       "    .dataframe tbody tr th:only-of-type {\n",
       "        vertical-align: middle;\n",
       "    }\n",
       "\n",
       "    .dataframe tbody tr th {\n",
       "        vertical-align: top;\n",
       "    }\n",
       "\n",
       "    .dataframe thead th {\n",
       "        text-align: right;\n",
       "    }\n",
       "</style>\n",
       "<table border=\"1\" class=\"dataframe\">\n",
       "  <thead>\n",
       "    <tr style=\"text-align: right;\">\n",
       "      <th>fado_type</th>\n",
       "      <th>Abuse of Authority</th>\n",
       "      <th>Discourtesy</th>\n",
       "      <th>Force</th>\n",
       "      <th>Offensive Language</th>\n",
       "    </tr>\n",
       "    <tr>\n",
       "      <th>isnull</th>\n",
       "      <th></th>\n",
       "      <th></th>\n",
       "      <th></th>\n",
       "      <th></th>\n",
       "    </tr>\n",
       "  </thead>\n",
       "  <tbody>\n",
       "    <tr>\n",
       "      <th>False</th>\n",
       "      <td>0.857678</td>\n",
       "      <td>0.911054</td>\n",
       "      <td>0.895888</td>\n",
       "      <td>0.87251</td>\n",
       "    </tr>\n",
       "    <tr>\n",
       "      <th>True</th>\n",
       "      <td>0.142322</td>\n",
       "      <td>0.088946</td>\n",
       "      <td>0.104112</td>\n",
       "      <td>0.12749</td>\n",
       "    </tr>\n",
       "  </tbody>\n",
       "</table>\n",
       "</div>"
      ],
      "text/plain": [
       "fado_type  Abuse of Authority  Discourtesy     Force  Offensive Language\n",
       "isnull                                                                  \n",
       "False                0.857678     0.911054  0.895888             0.87251\n",
       "True                 0.142322     0.088946  0.104112             0.12749"
      ]
     },
     "execution_count": 176,
     "metadata": {},
     "output_type": "execute_result"
    }
   ],
   "source": [
    "#gender vs fado_type\n",
    "allegations[\"isnull\"] = allegations[\"complainant_gender\"].isnull()\n",
    "\n",
    "split = allegations.groupby([\"isnull\", \"fado_type\"]).count()[\"unique_mos_id\"]#[False, \"Abuse of Authority\"]#.index\n",
    "table = split.reset_index().pivot_table(index = \"isnull\", columns = \"fado_type\", values = \"unique_mos_id\")\n",
    "total = (table.iloc[0]+table.iloc[1])\n",
    "table.iloc[0] = table.iloc[0]/total\n",
    "table.iloc[1] = table.iloc[1]/total\n",
    "table"
   ]
  },
  {
   "cell_type": "markdown",
   "metadata": {},
   "source": [
    "Since the `isnull` column contains only True/False values, it is a binary categorical variable. We are looking at groups denoted by 2 genders, which is also a binary categorical variable.\n",
    "This implies the usage of the total variation distance (TVD) as our test statistic, which mesures the sum of the absolute difference between the True/False proportions for each group. The TVD is best suited to comparing two categorical distributions that are similar in shape (as the bar graph in the previous section shows)."
   ]
  },
  {
   "cell_type": "code",
   "execution_count": 177,
   "metadata": {},
   "outputs": [
    {
     "data": {
      "text/plain": [
       "1.537129856709892"
      ]
     },
     "execution_count": 177,
     "metadata": {},
     "output_type": "execute_result"
    }
   ],
   "source": [
    "stat = table.diff().abs().iloc[1].sum()/2\n",
    "stat"
   ]
  },
  {
   "cell_type": "markdown",
   "metadata": {},
   "source": [
    "The test statistic is 1.537.\n",
    "\n",
    "Now, a permutation test is used to generate 1000 samples of the test statistic. Each time, the `isnull` column is shuffled (this is saved into another column `random`, so that the original values are not overridden), the test statistic is calculated, and the test statistic is saved into `lst`."
   ]
  },
  {
   "cell_type": "code",
   "execution_count": 178,
   "metadata": {},
   "outputs": [],
   "source": [
    "lst = []\n",
    "for _ in range(1000):\n",
    "    allegations[\"random\"] = allegations[\"isnull\"].sample(frac = 1).reset_index(drop = True)\n",
    "    split = allegations.groupby([\"random\", \"fado_type\"]).count()[\"unique_mos_id\"]#[False, \"Abuse of Authority\"]#.index\n",
    "    table = split.reset_index().pivot_table(index = \"random\", columns = \"fado_type\", values = \"unique_mos_id\")\n",
    "    total = (table.iloc[0]+table.iloc[1])\n",
    "    table.iloc[0] = table.iloc[0]/total\n",
    "    table.iloc[1] = table.iloc[1]/total\n",
    "    lst.append(table.diff().abs().iloc[1].sum()/2)"
   ]
  },
  {
   "cell_type": "markdown",
   "metadata": {},
   "source": [
    "Below is the distribution of test statistics generated by the permutation test. The red line denotes the original test statistic."
   ]
  },
  {
   "cell_type": "code",
   "execution_count": 179,
   "metadata": {},
   "outputs": [
    {
     "data": {
      "image/png": "[encoded data removed]",
      "text/plain": [
       "<Figure size 432x288 with 1 Axes>"
      ]
     },
     "metadata": {
      "image/png": {
       "height": 248,
       "width": 381
      },
      "needs_background": "light"
     },
     "output_type": "display_data"
    }
   ],
   "source": [
    "plt.hist(lst)\n",
    "plt.axvline(stat, color='r')\n",
    "plt.show()"
   ]
  },
  {
   "cell_type": "markdown",
   "metadata": {},
   "source": [
    " The p-value measures the probability of generating a value more extreme than our test statistic, i.e. the area under the curve and to the right of the line."
   ]
  },
  {
   "cell_type": "code",
   "execution_count": 180,
   "metadata": {},
   "outputs": [
    {
     "name": "stdout",
     "output_type": "stream",
     "text": [
      "P-value: 0.0\n"
     ]
    }
   ],
   "source": [
    "print(\"P-value:\", np.count_nonzero(pd.Series(lst) >= stat) / len(lst))"
   ]
  },
  {
   "cell_type": "markdown",
   "metadata": {},
   "source": [
    " Our significance value is 5%. The p-value of 0 is less than 0.05, so we can reject the null hypothesis in favour of the alternative. We may conclude that the missingness in the `complainant_gender` column is dependent on FADO type.\n",
    " \n",
    " ### 2. Missing Gender vs Precinct\n",
    " \n",
    " The same test is used to determine the dependency of gender to precinct. We run another hypothesis test under the following assumptions:\n",
    "- Null hypothesis: The missingnness in the gender column is missing completely at random.\n",
    "- Alternative hypothesis: The missingness in the gender column is dependent on precinct.\n",
    "- A significance level of 5% (0.05).\n",
    " \n",
    " A table of null vs. non-null proportions is created for each precinct."
   ]
  },
  {
   "cell_type": "code",
   "execution_count": 181,
   "metadata": {},
   "outputs": [
    {
     "data": {
      "text/html": [
       "<div>\n",
       "<style scoped>\n",
       "    .dataframe tbody tr th:only-of-type {\n",
       "        vertical-align: middle;\n",
       "    }\n",
       "\n",
       "    .dataframe tbody tr th {\n",
       "        vertical-align: top;\n",
       "    }\n",
       "\n",
       "    .dataframe thead th {\n",
       "        text-align: right;\n",
       "    }\n",
       "</style>\n",
       "<table border=\"1\" class=\"dataframe\">\n",
       "  <thead>\n",
       "    <tr style=\"text-align: right;\">\n",
       "      <th>precinct</th>\n",
       "      <th>0.0</th>\n",
       "      <th>1.0</th>\n",
       "      <th>5.0</th>\n",
       "      <th>6.0</th>\n",
       "      <th>7.0</th>\n",
       "      <th>9.0</th>\n",
       "      <th>10.0</th>\n",
       "      <th>13.0</th>\n",
       "      <th>14.0</th>\n",
       "      <th>17.0</th>\n",
       "      <th>...</th>\n",
       "      <th>111.0</th>\n",
       "      <th>112.0</th>\n",
       "      <th>113.0</th>\n",
       "      <th>114.0</th>\n",
       "      <th>115.0</th>\n",
       "      <th>120.0</th>\n",
       "      <th>121.0</th>\n",
       "      <th>122.0</th>\n",
       "      <th>123.0</th>\n",
       "      <th>1000.0</th>\n",
       "    </tr>\n",
       "    <tr>\n",
       "      <th>isnull</th>\n",
       "      <th></th>\n",
       "      <th></th>\n",
       "      <th></th>\n",
       "      <th></th>\n",
       "      <th></th>\n",
       "      <th></th>\n",
       "      <th></th>\n",
       "      <th></th>\n",
       "      <th></th>\n",
       "      <th></th>\n",
       "      <th></th>\n",
       "      <th></th>\n",
       "      <th></th>\n",
       "      <th></th>\n",
       "      <th></th>\n",
       "      <th></th>\n",
       "      <th></th>\n",
       "      <th></th>\n",
       "      <th></th>\n",
       "      <th></th>\n",
       "      <th></th>\n",
       "    </tr>\n",
       "  </thead>\n",
       "  <tbody>\n",
       "    <tr>\n",
       "      <th>False</th>\n",
       "      <td>0.095238</td>\n",
       "      <td>0.954023</td>\n",
       "      <td>0.95625</td>\n",
       "      <td>0.937143</td>\n",
       "      <td>0.859729</td>\n",
       "      <td>0.887218</td>\n",
       "      <td>0.921162</td>\n",
       "      <td>0.967105</td>\n",
       "      <td>0.880342</td>\n",
       "      <td>0.947368</td>\n",
       "      <td>...</td>\n",
       "      <td>0.891892</td>\n",
       "      <td>0.941176</td>\n",
       "      <td>0.880682</td>\n",
       "      <td>0.831579</td>\n",
       "      <td>0.885714</td>\n",
       "      <td>0.900474</td>\n",
       "      <td>0.945355</td>\n",
       "      <td>0.915966</td>\n",
       "      <td>0.901786</td>\n",
       "      <td>1.0</td>\n",
       "    </tr>\n",
       "    <tr>\n",
       "      <th>True</th>\n",
       "      <td>0.904762</td>\n",
       "      <td>0.045977</td>\n",
       "      <td>0.04375</td>\n",
       "      <td>0.062857</td>\n",
       "      <td>0.140271</td>\n",
       "      <td>0.112782</td>\n",
       "      <td>0.078838</td>\n",
       "      <td>0.032895</td>\n",
       "      <td>0.119658</td>\n",
       "      <td>0.052632</td>\n",
       "      <td>...</td>\n",
       "      <td>0.108108</td>\n",
       "      <td>0.058824</td>\n",
       "      <td>0.119318</td>\n",
       "      <td>0.168421</td>\n",
       "      <td>0.114286</td>\n",
       "      <td>0.099526</td>\n",
       "      <td>0.054645</td>\n",
       "      <td>0.084034</td>\n",
       "      <td>0.098214</td>\n",
       "      <td>0.0</td>\n",
       "    </tr>\n",
       "  </tbody>\n",
       "</table>\n",
       "<p>2 rows × 79 columns</p>\n",
       "</div>"
      ],
      "text/plain": [
       "precinct    0.0       1.0      5.0       6.0       7.0       9.0       10.0    \\\n",
       "isnull                                                                          \n",
       "False     0.095238  0.954023  0.95625  0.937143  0.859729  0.887218  0.921162   \n",
       "True      0.904762  0.045977  0.04375  0.062857  0.140271  0.112782  0.078838   \n",
       "\n",
       "precinct    13.0      14.0      17.0    ...    111.0     112.0     113.0   \\\n",
       "isnull                                  ...                                 \n",
       "False     0.967105  0.880342  0.947368  ...  0.891892  0.941176  0.880682   \n",
       "True      0.032895  0.119658  0.052632  ...  0.108108  0.058824  0.119318   \n",
       "\n",
       "precinct    114.0     115.0     120.0     121.0     122.0     123.0   1000.0  \n",
       "isnull                                                                        \n",
       "False     0.831579  0.885714  0.900474  0.945355  0.915966  0.901786     1.0  \n",
       "True      0.168421  0.114286  0.099526  0.054645  0.084034  0.098214     0.0  \n",
       "\n",
       "[2 rows x 79 columns]"
      ]
     },
     "execution_count": 181,
     "metadata": {},
     "output_type": "execute_result"
    }
   ],
   "source": [
    "#gender vs year\n",
    "allegations[\"isnull\"] = allegations[\"complainant_gender\"].isnull()\n",
    "allegations[\"random\"] = allegations[\"isnull\"].sample(frac = 1).reset_index(drop = True)\n",
    "\n",
    "split = allegations.groupby([\"isnull\", \"precinct\"]).count()[\"unique_mos_id\"]#[False, \"Abuse of Authority\"]#.index\n",
    "table = split.reset_index().pivot_table(index = \"isnull\", columns = \"precinct\", values = \"unique_mos_id\")\n",
    "table = table.fillna(0)\n",
    "total = (table.iloc[0]+table.iloc[1])\n",
    "table.iloc[0] = table.iloc[0]/total\n",
    "table.iloc[1] = table.iloc[1]/total\n",
    "table"
   ]
  },
  {
   "cell_type": "markdown",
   "metadata": {},
   "source": [
    "We still use the TVD as our test statistic, because the precints, though denoted by numbers, is a categorical variable. To be specific, there are 79 precincts (found by running the following: `len(table.columns)`).\n",
    "\n",
    "The TVD is calculated by taking the sum of the absolute value of the differences for each group."
   ]
  },
  {
   "cell_type": "code",
   "execution_count": 182,
   "metadata": {},
   "outputs": [
    {
     "data": {
      "text/plain": [
       "29.894100123618415"
      ]
     },
     "execution_count": 182,
     "metadata": {},
     "output_type": "execute_result"
    }
   ],
   "source": [
    "tvd = table.diff().abs().iloc[1].sum()/2\n",
    "tvd"
   ]
  },
  {
   "cell_type": "markdown",
   "metadata": {},
   "source": [
    "Anohter permutation test with 1000 iterations is run, the distribution is plotted, and the p-value displayed."
   ]
  },
  {
   "cell_type": "code",
   "execution_count": 183,
   "metadata": {},
   "outputs": [
    {
     "name": "stdout",
     "output_type": "stream",
     "text": [
      "p-value:  0.059\n"
     ]
    },
    {
     "data": {
      "image/png": "[encoded data removed]",
      "text/plain": [
       "<Figure size 432x288 with 1 Axes>"
      ]
     },
     "metadata": {
      "image/png": {
       "height": 263,
       "width": 388
      },
      "needs_background": "light"
     },
     "output_type": "display_data"
    }
   ],
   "source": [
    "lst = []\n",
    "for _ in range(1000):\n",
    "    allegations[\"isnull\"] = allegations[\"complainant_gender\"].isnull()\n",
    "    allegations[\"random\"] = allegations[\"isnull\"].sample(frac = 1).reset_index(drop = True)\n",
    "\n",
    "    split = allegations.groupby([\"random\", \"precinct\"]).count()[\"unique_mos_id\"]#[False, \"Abuse of Authority\"]#.index\n",
    "    table = split.reset_index().pivot_table(index = \"random\", columns = \"precinct\", values = \"unique_mos_id\")\n",
    "    table = table.fillna(0)\n",
    "    total = (table.iloc[0]+table.iloc[1])\n",
    "    table.iloc[0] = table.iloc[0]/total\n",
    "    table.iloc[1] = table.iloc[1]/total\n",
    "    lst.append(table.diff().abs().iloc[1].sum()/2)\n",
    "\n",
    "pd.Series(lst).plot(kind = 'hist', title = \"Total Variation Distance\")\n",
    "plt.axvline(tvd, color='r')\n",
    "print(\"p-value: \", np.count_nonzero(pd.Series(lst) >= tvd)/len(lst))\n"
   ]
  },
  {
   "cell_type": "markdown",
   "metadata": {},
   "source": [
    "The p-value is greater than the significance level of 0.05, so we cannot reject the null hypothesis. The missingness of gender is likely not dependent on precinct.\n",
    "\n",
    "\n",
    "### Conclusion of Missingness\n",
    "\n",
    "Assumptions:\n",
    "1. The complainant are the ones who filled in the information, meaning that if their gender/ethnicity is missing, this is due to them leaving it blank.\n",
    "2. Every precinct is a valid precinct.\n",
    "\n",
    "The conclusions at the 5% significance level are summarized as follows:\n",
    "1. The complainant gender's missingness dependent on the FADO/complaint type, and\n",
    "2. The complainant gender is independent of the precinct of the officers that were being complained about.\n",
    "\n",
    "This indicates that the kind of complaint against an officer may affect a complainant's decision in leaving gender empty. It's possible, for example, that a person would feel like their complaint is less likely to succeed if they provide their gender.\n",
    "\n",
    "The code block below calculates the number of each allegation type filed under the \"Offensive Language\" category. The top 2 most common allegations are related to race and gender. If an officer's reported offensive language was in regards to the complainant's gender, it's also possible that the complainant felt like they didn't need to report their gender, or chose to exclude it due to emotional/personal reasons."
   ]
  },
  {
   "cell_type": "code",
   "execution_count": 184,
   "metadata": {},
   "outputs": [
    {
     "data": {
      "text/plain": [
       "Race                   307\n",
       "Gender                 115\n",
       "Ethnicity               84\n",
       "Sexual orientation      78\n",
       "Black                   56\n",
       "Other                   48\n",
       "Physical disability     15\n",
       "Religion                14\n",
       "Other - Ethnic Slur     11\n",
       "Hispanic                 9\n",
       "White                    8\n",
       "Gender Identity          4\n",
       "Jewish                   2\n",
       "Other Asian              1\n",
       "Oriental                 1\n",
       "Name: allegation, dtype: int64"
      ]
     },
     "execution_count": 184,
     "metadata": {},
     "output_type": "execute_result"
    }
   ],
   "source": [
    "allegations[allegations[\"fado_type\"] == \"Offensive Language\"][\"allegation\"].value_counts()"
   ]
  },
  {
   "cell_type": "markdown",
   "metadata": {},
   "source": [
    "### Hypothesis Test\n",
    "\n",
    "Now, we will investigate our main objective, which is to find out whether women's complaints are less successful than men. To do this, we will once again perform a permutation test with TVD as its test statistic. Thus, whether board disposition is dependent on gender.\n",
    "\n",
    "$ H_0: C_W = C_M$\n",
    "\n",
    "$  H_A: C_W < C_M $\n",
    "\n",
    "As mentioned earlier, there are three outcomes to a board disposition:\n",
    "1. \"Substantiated\": the alleged conduct occured and it violated the rules\n",
    "2. \"Exonerated\": the alleged conduct occured but did not violate NYPD rules\n",
    "3. \"Unsubstantiated\": the CCRB could not affirmatively conclude both that the alleged conduct occured and that it broke the rules\n",
    "\n",
    "To simplify these outcomes, we:\n",
    "- classify both \"substantiated\" and \"exonerated\" as a successful complaint (represented as 1)\n",
    "- classify \"unsubstantiated\" as unsuccessful (represented as 0)\n",
    "\n",
    "#### Data Imputation\n",
    "However, before we do so, we must first impute the missing genders. \n",
    "\n",
    "Despite the conclusions of the missingness analysis, we still cannot tell what the missing genders are, or which genders are more likely to be missing. The next best option is to coduct a probabilistic imputation--genders will be drawn from the existing proportion of males to females as to not skew the distribution's mean and variance. Furthermore, we will also exclude genders other than \"male\" and \"female\" from the permutation test to simplify our grasp of the men vs. women success rate."
   ]
  },
  {
   "cell_type": "code",
   "execution_count": 185,
   "metadata": {},
   "outputs": [
    {
     "data": {
      "text/html": [
       "<div>\n",
       "<style scoped>\n",
       "    .dataframe tbody tr th:only-of-type {\n",
       "        vertical-align: middle;\n",
       "    }\n",
       "\n",
       "    .dataframe tbody tr th {\n",
       "        vertical-align: top;\n",
       "    }\n",
       "\n",
       "    .dataframe thead th {\n",
       "        text-align: right;\n",
       "    }\n",
       "</style>\n",
       "<table border=\"1\" class=\"dataframe\">\n",
       "  <thead>\n",
       "    <tr style=\"text-align: right;\">\n",
       "      <th></th>\n",
       "      <th>success</th>\n",
       "      <th>imputed_gender</th>\n",
       "    </tr>\n",
       "  </thead>\n",
       "  <tbody>\n",
       "    <tr>\n",
       "      <th>0</th>\n",
       "      <td>1</td>\n",
       "      <td>Female</td>\n",
       "    </tr>\n",
       "    <tr>\n",
       "      <th>1</th>\n",
       "      <td>1</td>\n",
       "      <td>Male</td>\n",
       "    </tr>\n",
       "    <tr>\n",
       "      <th>2</th>\n",
       "      <td>1</td>\n",
       "      <td>Male</td>\n",
       "    </tr>\n",
       "    <tr>\n",
       "      <th>3</th>\n",
       "      <td>1</td>\n",
       "      <td>Male</td>\n",
       "    </tr>\n",
       "    <tr>\n",
       "      <th>4</th>\n",
       "      <td>1</td>\n",
       "      <td>Female</td>\n",
       "    </tr>\n",
       "  </tbody>\n",
       "</table>\n",
       "</div>"
      ],
      "text/plain": [
       "   success imputed_gender\n",
       "0        1         Female\n",
       "1        1           Male\n",
       "2        1           Male\n",
       "3        1           Male\n",
       "4        1         Female"
      ]
     },
     "execution_count": 185,
     "metadata": {},
     "output_type": "execute_result"
    }
   ],
   "source": [
    "#Successful vs unsuccessful\n",
    "allegations[\"success\"] = allegations[\"board_disposition\"].str.split().str[0]\n",
    "allegations[\"success\"] = allegations[\"success\"].replace({\"Unsubstantiated\" : 0, \"Exonerated\" : 1, \"Substantiated\" : 1})\n",
    "\n",
    "#Imputing gender\n",
    "ratio = allegations[\"complainant_gender\"].value_counts()[[\"Male\", \"Female\"]]\n",
    "ratio = ratio/ratio.sum()\n",
    "n = np.count_nonzero(allegations[\"complainant_gender\"].isnull())\n",
    "gens = pd.Series(np.random.choice([\"Male\", \"Female\"], size = n, p = ratio.values))\n",
    "index = allegations[allegations[\"complainant_gender\"].isnull()].index.tolist()\n",
    "allegations[\"imputed_gender\"] = allegations[\"complainant_gender\"].fillna(pd.DataFrame([index, gens]).transpose().set_index(0, drop = True)[1])\n",
    "\n",
    "allegations[[\"success\", \"imputed_gender\"]].head()"
   ]
  },
  {
   "cell_type": "markdown",
   "metadata": {},
   "source": [
    "### Permutation Test\n",
    "A permuation test can be carried out, under a significance level of 5% and the hypotheses stated earlier. The data is filtered and imputed, and a pivot table is created with the proportion of successes and failures for both genders."
   ]
  },
  {
   "cell_type": "code",
   "execution_count": 186,
   "metadata": {},
   "outputs": [
    {
     "data": {
      "text/html": [
       "<div>\n",
       "<style scoped>\n",
       "    .dataframe tbody tr th:only-of-type {\n",
       "        vertical-align: middle;\n",
       "    }\n",
       "\n",
       "    .dataframe tbody tr th {\n",
       "        vertical-align: top;\n",
       "    }\n",
       "\n",
       "    .dataframe thead th {\n",
       "        text-align: right;\n",
       "    }\n",
       "</style>\n",
       "<table border=\"1\" class=\"dataframe\">\n",
       "  <thead>\n",
       "    <tr style=\"text-align: right;\">\n",
       "      <th>imputed_gender</th>\n",
       "      <th>Female</th>\n",
       "      <th>Male</th>\n",
       "    </tr>\n",
       "    <tr>\n",
       "      <th>success</th>\n",
       "      <th></th>\n",
       "      <th></th>\n",
       "    </tr>\n",
       "  </thead>\n",
       "  <tbody>\n",
       "    <tr>\n",
       "      <th>0</th>\n",
       "      <td>0.497899</td>\n",
       "      <td>0.456208</td>\n",
       "    </tr>\n",
       "    <tr>\n",
       "      <th>1</th>\n",
       "      <td>0.502101</td>\n",
       "      <td>0.543792</td>\n",
       "    </tr>\n",
       "  </tbody>\n",
       "</table>\n",
       "</div>"
      ],
      "text/plain": [
       "imputed_gender    Female      Male\n",
       "success                           \n",
       "0               0.497899  0.456208\n",
       "1               0.502101  0.543792"
      ]
     },
     "execution_count": 186,
     "metadata": {},
     "output_type": "execute_result"
    }
   ],
   "source": [
    "tab = allegations[(allegations[\"imputed_gender\"] == \"Male\") | (allegations[\"imputed_gender\"] == \"Female\")].reset_index(drop = True)\n",
    "pt = tab[[\"success\", \"imputed_gender\"]].pivot_table(index = \"success\", columns = \"imputed_gender\", aggfunc = \"size\")\n",
    "pt = pt/pt.sum()\n",
    "pt"
   ]
  },
  {
   "cell_type": "markdown",
   "metadata": {},
   "source": [
    "Since we are using gender, a categorical variable, and success, a binary categorical variable, TVD may be used as a test statistic."
   ]
  },
  {
   "cell_type": "code",
   "execution_count": 187,
   "metadata": {},
   "outputs": [
    {
     "data": {
      "text/plain": [
       "0.04589301797200995"
      ]
     },
     "execution_count": 187,
     "metadata": {},
     "output_type": "execute_result"
    }
   ],
   "source": [
    "tvd = pt.diff().abs().iloc[1].sum()/2\n",
    "tvd"
   ]
  },
  {
   "cell_type": "markdown",
   "metadata": {},
   "source": [
    "A permutation test is run with 1000 iterations, the p-value is calculated, and the distribution of generated test statistics are plotted."
   ]
  },
  {
   "cell_type": "code",
   "execution_count": 188,
   "metadata": {},
   "outputs": [
    {
     "data": {
      "image/png": "[encoded data removed]",
      "text/plain": [
       "<Figure size 432x288 with 1 Axes>"
      ]
     },
     "metadata": {
      "image/png": {
       "height": 263,
       "width": 398
      },
      "needs_background": "light"
     },
     "output_type": "display_data"
    },
    {
     "name": "stdout",
     "output_type": "stream",
     "text": [
      "p-value:  0.0\n"
     ]
    }
   ],
   "source": [
    "lst = []\n",
    "for _ in range(1000):\n",
    "    tab[\"random\"] = tab[\"complainant_gender\"].sample(frac= 1).reset_index(drop = True)\n",
    "    table = tab[[\"success\", \"random\"]].pivot_table(index = \"success\", columns = \"random\", aggfunc = \"size\")\n",
    "    table = table/table.sum()\n",
    "    lst.append(table.diff().abs().iloc[1].sum()/2)\n",
    "\n",
    "pd.Series(lst).plot(kind = 'hist', title = \"Total Variation Distance\")\n",
    "plt.axvline(tvd, color='r')\n",
    "plt.show()\n",
    "print(\"p-value: \", np.count_nonzero(lst <= tvd)/len(lst))"
   ]
  },
  {
   "cell_type": "markdown",
   "metadata": {},
   "source": [
    "The p-value is less than the significance level of 0.05, so the difference between the success rates of men and womer are statistically significant. The null hypothesis is rejected in favour of the alternative.\n",
    "\n",
    "### Further Investigation: Same Comparison, Only  2019\n",
    "\n",
    "To take the analysis further, we isolate all complaints from the year 2019 and run the same analysis. The code block below repeats the entire process, from imputation to permutation test. The hypotheses and level of significance remain the same:\n",
    "\n",
    "$$ H_0: C_W = C_M$$\n",
    "$$  H_A: C_W < C_M $$\n"
   ]
  },
  {
   "cell_type": "code",
   "execution_count": 189,
   "metadata": {},
   "outputs": [
    {
     "data": {
      "image/png": "[encoded data removed]",
      "text/plain": [
       "<Figure size 432x288 with 1 Axes>"
      ]
     },
     "metadata": {
      "image/png": {
       "height": 263,
       "width": 388
      },
      "needs_background": "light"
     },
     "output_type": "display_data"
    },
    {
     "name": "stdout",
     "output_type": "stream",
     "text": [
      "p-value:  0.247\n"
     ]
    }
   ],
   "source": [
    "tab = allegations[((allegations[\"imputed_gender\"] == \"Male\") | (allegations[\"imputed_gender\"] == \"Female\")) & (allegations[\"year_received\"] == 2019)].reset_index(drop = True)\n",
    "pt = tab[[\"success\", \"imputed_gender\"]].pivot_table(index = \"success\", columns = \"imputed_gender\", aggfunc = \"size\")\n",
    "pt = pt/pt.sum()\n",
    "tvd = pt.diff().abs().iloc[1].sum()/2\n",
    "tab[[\"success\", \"imputed_gender\"]].head()\n",
    "\n",
    "lst = []\n",
    "for _ in range(1000):\n",
    "    tab[\"random\"] = tab[\"complainant_gender\"].sample(frac= 1).reset_index(drop = True)\n",
    "    table = tab[[\"success\", \"random\"]].pivot_table(index = \"success\", columns = \"random\", aggfunc = \"size\")\n",
    "    table = table/table.sum()\n",
    "    lst.append(table.diff().abs().iloc[1].sum()/2)\n",
    "    \n",
    "pd.Series(lst).plot(kind = 'hist', title = \"Total Variation Distance\")\n",
    "plt.axvline(tvd, color = 'r')\n",
    "plt.show()\n",
    "print(\"p-value: \", np.count_nonzero(lst <= tvd)/len(lst))"
   ]
  },
  {
   "cell_type": "markdown",
   "metadata": {},
   "source": [
    "To our surprise, the p-value for 2019 is greater than the 0.05 significance level, and we cannot reject the null hypothesis. The success rate of women is not statistically different than the success rate of men.\n",
    "\n",
    "### Conclusion of Exploration & Permutation Test\n",
    "\n",
    "To conlcude our findings:\n",
    "1. The complainant gender's missingness is dependent on FADO type\n",
    "2. The CCRB is overall biased towards men when deciding whether a complaint is successful or not\n",
    "3. However, in 2019, the CCRB was not biased towards men or women in deciding the outcome of complaints\n",
    "\n",
    "Based on point 2, to some extent, we can make a claim that more of these missing genders are likely to be female than male. This is under the assumption that women do not feel as safe making complaints as compared to men. \n",
    "\n",
    "However, after we do further investigation, we find out that the CCRB's bias towards men cannot be affirmatively confirmed as we now have a p-value of around 0.32, which is well above our significance level of 5%. Though more time series analysis is needed to make definitive claims, it seems that more recent years may reflect that women more or less have an equal complaint success rate as that of men."
   ]
  },
  {
   "cell_type": "markdown",
   "metadata": {},
   "source": [
    "### Baseline Model\n",
    "\n",
    "To begin, we create a baseline model with a generic set of features. First, the relevant columns are selected (`year_received`, `month_received`, `complainant_ethnicity`, `complainant_gender`, `fado_type`, `mos_ethnicity`, and `mos_gender`)."
   ]
  },
  {
   "cell_type": "code",
   "execution_count": 190,
   "metadata": {},
   "outputs": [
    {
     "data": {
      "text/html": [
       "<div>\n",
       "<style scoped>\n",
       "    .dataframe tbody tr th:only-of-type {\n",
       "        vertical-align: middle;\n",
       "    }\n",
       "\n",
       "    .dataframe tbody tr th {\n",
       "        vertical-align: top;\n",
       "    }\n",
       "\n",
       "    .dataframe thead th {\n",
       "        text-align: right;\n",
       "    }\n",
       "</style>\n",
       "<table border=\"1\" class=\"dataframe\">\n",
       "  <thead>\n",
       "    <tr style=\"text-align: right;\">\n",
       "      <th></th>\n",
       "      <th>year_received</th>\n",
       "      <th>complainant_ethnicity</th>\n",
       "      <th>complainant_gender</th>\n",
       "      <th>fado_type</th>\n",
       "      <th>mos_ethnicity</th>\n",
       "      <th>mos_gender</th>\n",
       "      <th>month_closed</th>\n",
       "      <th>success</th>\n",
       "    </tr>\n",
       "  </thead>\n",
       "  <tbody>\n",
       "    <tr>\n",
       "      <th>0</th>\n",
       "      <td>2019</td>\n",
       "      <td>Black</td>\n",
       "      <td>Female</td>\n",
       "      <td>Abuse of Authority</td>\n",
       "      <td>Hispanic</td>\n",
       "      <td>M</td>\n",
       "      <td>5</td>\n",
       "      <td>1</td>\n",
       "    </tr>\n",
       "    <tr>\n",
       "      <th>1</th>\n",
       "      <td>2011</td>\n",
       "      <td>Black</td>\n",
       "      <td>Male</td>\n",
       "      <td>Discourtesy</td>\n",
       "      <td>White</td>\n",
       "      <td>M</td>\n",
       "      <td>8</td>\n",
       "      <td>1</td>\n",
       "    </tr>\n",
       "    <tr>\n",
       "      <th>2</th>\n",
       "      <td>2011</td>\n",
       "      <td>Black</td>\n",
       "      <td>Male</td>\n",
       "      <td>Offensive Language</td>\n",
       "      <td>White</td>\n",
       "      <td>M</td>\n",
       "      <td>8</td>\n",
       "      <td>1</td>\n",
       "    </tr>\n",
       "    <tr>\n",
       "      <th>3</th>\n",
       "      <td>2012</td>\n",
       "      <td>Black</td>\n",
       "      <td>Male</td>\n",
       "      <td>Abuse of Authority</td>\n",
       "      <td>White</td>\n",
       "      <td>M</td>\n",
       "      <td>9</td>\n",
       "      <td>1</td>\n",
       "    </tr>\n",
       "    <tr>\n",
       "      <th>4</th>\n",
       "      <td>2018</td>\n",
       "      <td>NaN</td>\n",
       "      <td>Female</td>\n",
       "      <td>Force</td>\n",
       "      <td>Hispanic</td>\n",
       "      <td>F</td>\n",
       "      <td>2</td>\n",
       "      <td>1</td>\n",
       "    </tr>\n",
       "  </tbody>\n",
       "</table>\n",
       "</div>"
      ],
      "text/plain": [
       "   year_received complainant_ethnicity complainant_gender           fado_type  \\\n",
       "0           2019                 Black             Female  Abuse of Authority   \n",
       "1           2011                 Black               Male         Discourtesy   \n",
       "2           2011                 Black               Male  Offensive Language   \n",
       "3           2012                 Black               Male  Abuse of Authority   \n",
       "4           2018                   NaN             Female               Force   \n",
       "\n",
       "  mos_ethnicity mos_gender  month_closed  success  \n",
       "0      Hispanic          M             5        1  \n",
       "1         White          M             8        1  \n",
       "2         White          M             8        1  \n",
       "3         White          M             9        1  \n",
       "4      Hispanic          F             2        1  "
      ]
     },
     "execution_count": 190,
     "metadata": {},
     "output_type": "execute_result"
    }
   ],
   "source": [
    "#Filtering columns\n",
    "cols = [\"year_received\", \"complainant_ethnicity\", \"imputed_gender\", \"fado_type\", \"mos_ethnicity\",\n",
    "\"mos_gender\", \"month_closed\", \"success\"]\n",
    "df = allegations[cols].rename(columns = {\"imputed_gender\": \"complainant_gender\"})\n",
    "df = df[((df[\"complainant_gender\"] == \"Male\") | (df[\"complainant_gender\"] == \"Female\"))]\n",
    "df.head()"
   ]
  },
  {
   "cell_type": "markdown",
   "metadata": {},
   "source": [
    "#### Imputing missingness\n",
    "The dataframe still contains missing values in the `complainant_ethnicity` column, so these values must be imputed before fitting a model. These values are imputed by drawing from the distribution of ethnicities. This ensures that the mean and variance\n",
    "\n",
    "Previously, some columns were also of type object. After the missing values have been imputed, we convert these into Strings. In order to fit a classification model, all values must be quantitative."
   ]
  },
  {
   "cell_type": "code",
   "execution_count": 191,
   "metadata": {},
   "outputs": [
    {
     "data": {
      "text/plain": [
       "year_received            False\n",
       "complainant_ethnicity     True\n",
       "complainant_gender       False\n",
       "fado_type                False\n",
       "mos_ethnicity            False\n",
       "mos_gender               False\n",
       "month_closed             False\n",
       "success                  False\n",
       "dtype: bool"
      ]
     },
     "execution_count": 191,
     "metadata": {},
     "output_type": "execute_result"
    }
   ],
   "source": [
    "df.isnull().any()"
   ]
  },
  {
   "cell_type": "code",
   "execution_count": 192,
   "metadata": {},
   "outputs": [],
   "source": [
    "#Imputing missing values\n",
    "prop = df[\"complainant_ethnicity\"].value_counts()\n",
    "prop = prop/prop.sum()\n",
    "n = np.count_nonzero(df[\"complainant_ethnicity\"].isnull())\n",
    "gen = pd.Series(np.random.choice(prop.index, size = n, p = prop.values))\n",
    "index = df[df[\"complainant_ethnicity\"].isnull()].index.tolist()\n",
    "\n",
    "df[\"complainant_ethnicity\"] = df[\"complainant_ethnicity\"].fillna(pd.DataFrame([index, gen]).\\\n",
    "                                                                 transpose().set_index(0, drop = True)[1])\n",
    "\n",
    "#dtype conversion\n",
    "cat = [\"complainant_gender\", \"complainant_ethnicity\", \"fado_type\", \"mos_ethnicity\", \"mos_gender\"]\n",
    "df[cat] = df[cat].astype(str)"
   ]
  },
  {
   "cell_type": "code",
   "execution_count": 193,
   "metadata": {},
   "outputs": [
    {
     "data": {
      "text/html": [
       "<div>\n",
       "<style scoped>\n",
       "    .dataframe tbody tr th:only-of-type {\n",
       "        vertical-align: middle;\n",
       "    }\n",
       "\n",
       "    .dataframe tbody tr th {\n",
       "        vertical-align: top;\n",
       "    }\n",
       "\n",
       "    .dataframe thead th {\n",
       "        text-align: right;\n",
       "    }\n",
       "</style>\n",
       "<table border=\"1\" class=\"dataframe\">\n",
       "  <thead>\n",
       "    <tr style=\"text-align: right;\">\n",
       "      <th></th>\n",
       "      <th>year_received</th>\n",
       "      <th>complainant_ethnicity</th>\n",
       "      <th>complainant_gender</th>\n",
       "      <th>fado_type</th>\n",
       "      <th>mos_ethnicity</th>\n",
       "      <th>mos_gender</th>\n",
       "      <th>month_closed</th>\n",
       "    </tr>\n",
       "  </thead>\n",
       "  <tbody>\n",
       "    <tr>\n",
       "      <th>0</th>\n",
       "      <td>2019</td>\n",
       "      <td>Black</td>\n",
       "      <td>Female</td>\n",
       "      <td>Abuse of Authority</td>\n",
       "      <td>Hispanic</td>\n",
       "      <td>M</td>\n",
       "      <td>5</td>\n",
       "    </tr>\n",
       "    <tr>\n",
       "      <th>1</th>\n",
       "      <td>2011</td>\n",
       "      <td>Black</td>\n",
       "      <td>Male</td>\n",
       "      <td>Discourtesy</td>\n",
       "      <td>White</td>\n",
       "      <td>M</td>\n",
       "      <td>8</td>\n",
       "    </tr>\n",
       "    <tr>\n",
       "      <th>2</th>\n",
       "      <td>2011</td>\n",
       "      <td>Black</td>\n",
       "      <td>Male</td>\n",
       "      <td>Offensive Language</td>\n",
       "      <td>White</td>\n",
       "      <td>M</td>\n",
       "      <td>8</td>\n",
       "    </tr>\n",
       "    <tr>\n",
       "      <th>3</th>\n",
       "      <td>2012</td>\n",
       "      <td>Black</td>\n",
       "      <td>Male</td>\n",
       "      <td>Abuse of Authority</td>\n",
       "      <td>White</td>\n",
       "      <td>M</td>\n",
       "      <td>9</td>\n",
       "    </tr>\n",
       "    <tr>\n",
       "      <th>4</th>\n",
       "      <td>2018</td>\n",
       "      <td>Asian</td>\n",
       "      <td>Female</td>\n",
       "      <td>Force</td>\n",
       "      <td>Hispanic</td>\n",
       "      <td>F</td>\n",
       "      <td>2</td>\n",
       "    </tr>\n",
       "  </tbody>\n",
       "</table>\n",
       "</div>"
      ],
      "text/plain": [
       "   year_received complainant_ethnicity complainant_gender           fado_type  \\\n",
       "0           2019                 Black             Female  Abuse of Authority   \n",
       "1           2011                 Black               Male         Discourtesy   \n",
       "2           2011                 Black               Male  Offensive Language   \n",
       "3           2012                 Black               Male  Abuse of Authority   \n",
       "4           2018                 Asian             Female               Force   \n",
       "\n",
       "  mos_ethnicity mos_gender  month_closed  \n",
       "0      Hispanic          M             5  \n",
       "1         White          M             8  \n",
       "2         White          M             8  \n",
       "3         White          M             9  \n",
       "4      Hispanic          F             2  "
      ]
     },
     "metadata": {},
     "output_type": "display_data"
    },
    {
     "data": {
      "text/plain": [
       "year_received            False\n",
       "complainant_ethnicity    False\n",
       "complainant_gender       False\n",
       "fado_type                False\n",
       "mos_ethnicity            False\n",
       "mos_gender               False\n",
       "month_closed             False\n",
       "success                  False\n",
       "dtype: bool"
      ]
     },
     "execution_count": 193,
     "metadata": {},
     "output_type": "execute_result"
    }
   ],
   "source": [
    "display(df.drop(\"success\", axis = 1).head()) \n",
    "df.isnull().any()"
   ]
  },
  {
   "cell_type": "markdown",
   "metadata": {},
   "source": [
    "#### Pipeline \n",
    "\n",
    "Now, the model may be built. We begin by building an sklearn pipeline to one-hot encode the categorical columns in our selected features.\n",
    "\n",
    "The data we have is split into a simple train and validate, with an 85-15 split. `y_train` and `y_test` contain just the `success` column from the dataframe, while `X_train` and `X_test` contain all other columns.\n",
    "\n",
    "A LogisticRegression is chosen. Once fit on the training data, the model was fed the test data, and its predictions were compared to the original. The baseline model's accuraccy is around 61%."
   ]
  },
  {
   "cell_type": "code",
   "execution_count": 194,
   "metadata": {},
   "outputs": [
    {
     "name": "stdout",
     "output_type": "stream",
     "text": [
      "accuracy:  61.46 %\n"
     ]
    }
   ],
   "source": [
    "#Pipeline\n",
    "preproc = ColumnTransformer([('ohe', OneHotEncoder(), cat)], remainder = \"passthrough\")\n",
    "pl = Pipeline([('preproc', preproc), ('classifier', LogisticRegression())])\n",
    "\n",
    "#Train-test split\n",
    "X_train, X_test, y_train, y_test = train_test_split(df.drop(\"success\", axis = 1), df[\"success\"], test_size = 0.15)\n",
    "\n",
    "#Fitting and prediction\n",
    "pl.fit(X_train, y_train)\n",
    "results = (pl.predict(X_test) - y_test).abs().value_counts()\n",
    "print('accuracy: ', (round(results[0] *100/ results.sum(),2)), '%')"
   ]
  },
  {
   "cell_type": "markdown",
   "metadata": {},
   "source": [
    "### Final Model\n",
    "\n",
    "For the final model, we added and engineered a couple more features, including `rank_incident` which describes the officer's rank at the time of complaint, and `allegation` which describes the allegation made by the complainant. We then ordinal coded `rank_incident`, one-hot encoded `month_received` since months should not necessarily play a quantitatively decisive role in this classifier."
   ]
  },
  {
   "cell_type": "markdown",
   "metadata": {},
   "source": [
    "#### Pipeline\n",
    "\n",
    "We begin by building an sklearn pipeline to one-hot encode the categorical columns in our selected features. However, for `rank_incident` we ordinal encoded it to see if an officer's rank play a role in determining a complainant's failure or success. We also one-hot encoded `month_closed` since the month of the complaint should not be a quantitative scale.\n",
    "\n",
    "The data we have is split into a simple train and validate, with an 85-15 split. `y_train` and `y_test` contain just the `success` column from the dataframe, while `X_train` and `X_test` contain all other columns.\n",
    "\n",
    "A LogisticRegression is chosen with a `max_iter` of 450 . Once fit on the training data, the model was fed the test data, and its predictions were compared to the original. The final model's accuraccy is around 68%."
   ]
  },
  {
   "cell_type": "code",
   "execution_count": 195,
   "metadata": {},
   "outputs": [
    {
     "data": {
      "text/html": [
       "<div>\n",
       "<style scoped>\n",
       "    .dataframe tbody tr th:only-of-type {\n",
       "        vertical-align: middle;\n",
       "    }\n",
       "\n",
       "    .dataframe tbody tr th {\n",
       "        vertical-align: top;\n",
       "    }\n",
       "\n",
       "    .dataframe thead th {\n",
       "        text-align: right;\n",
       "    }\n",
       "</style>\n",
       "<table border=\"1\" class=\"dataframe\">\n",
       "  <thead>\n",
       "    <tr style=\"text-align: right;\">\n",
       "      <th></th>\n",
       "      <th>year_received</th>\n",
       "      <th>complainant_ethnicity</th>\n",
       "      <th>complainant_gender</th>\n",
       "      <th>fado_type</th>\n",
       "      <th>mos_ethnicity</th>\n",
       "      <th>mos_gender</th>\n",
       "      <th>month_closed</th>\n",
       "      <th>success</th>\n",
       "      <th>rank_incident</th>\n",
       "      <th>allegation</th>\n",
       "    </tr>\n",
       "  </thead>\n",
       "  <tbody>\n",
       "    <tr>\n",
       "      <th>0</th>\n",
       "      <td>2019</td>\n",
       "      <td>Black</td>\n",
       "      <td>Female</td>\n",
       "      <td>Abuse of Authority</td>\n",
       "      <td>Hispanic</td>\n",
       "      <td>M</td>\n",
       "      <td>5</td>\n",
       "      <td>1</td>\n",
       "      <td>Police Officer</td>\n",
       "      <td>Failure to provide RTKA card</td>\n",
       "    </tr>\n",
       "    <tr>\n",
       "      <th>1</th>\n",
       "      <td>2011</td>\n",
       "      <td>Black</td>\n",
       "      <td>Male</td>\n",
       "      <td>Discourtesy</td>\n",
       "      <td>White</td>\n",
       "      <td>M</td>\n",
       "      <td>8</td>\n",
       "      <td>1</td>\n",
       "      <td>Police Officer</td>\n",
       "      <td>Action</td>\n",
       "    </tr>\n",
       "    <tr>\n",
       "      <th>2</th>\n",
       "      <td>2011</td>\n",
       "      <td>Black</td>\n",
       "      <td>Male</td>\n",
       "      <td>Offensive Language</td>\n",
       "      <td>White</td>\n",
       "      <td>M</td>\n",
       "      <td>8</td>\n",
       "      <td>1</td>\n",
       "      <td>Police Officer</td>\n",
       "      <td>Race</td>\n",
       "    </tr>\n",
       "    <tr>\n",
       "      <th>3</th>\n",
       "      <td>2012</td>\n",
       "      <td>Black</td>\n",
       "      <td>Male</td>\n",
       "      <td>Abuse of Authority</td>\n",
       "      <td>White</td>\n",
       "      <td>M</td>\n",
       "      <td>9</td>\n",
       "      <td>1</td>\n",
       "      <td>Police Officer</td>\n",
       "      <td>Question</td>\n",
       "    </tr>\n",
       "    <tr>\n",
       "      <th>4</th>\n",
       "      <td>2018</td>\n",
       "      <td>Asian</td>\n",
       "      <td>Female</td>\n",
       "      <td>Force</td>\n",
       "      <td>Hispanic</td>\n",
       "      <td>F</td>\n",
       "      <td>2</td>\n",
       "      <td>1</td>\n",
       "      <td>Police Officer</td>\n",
       "      <td>Physical force</td>\n",
       "    </tr>\n",
       "  </tbody>\n",
       "</table>\n",
       "</div>"
      ],
      "text/plain": [
       "   year_received complainant_ethnicity complainant_gender           fado_type  \\\n",
       "0           2019                 Black             Female  Abuse of Authority   \n",
       "1           2011                 Black               Male         Discourtesy   \n",
       "2           2011                 Black               Male  Offensive Language   \n",
       "3           2012                 Black               Male  Abuse of Authority   \n",
       "4           2018                 Asian             Female               Force   \n",
       "\n",
       "  mos_ethnicity mos_gender  month_closed  success   rank_incident  \\\n",
       "0      Hispanic          M             5        1  Police Officer   \n",
       "1         White          M             8        1  Police Officer   \n",
       "2         White          M             8        1  Police Officer   \n",
       "3         White          M             9        1  Police Officer   \n",
       "4      Hispanic          F             2        1  Police Officer   \n",
       "\n",
       "                     allegation  \n",
       "0  Failure to provide RTKA card  \n",
       "1                        Action  \n",
       "2                          Race  \n",
       "3                      Question  \n",
       "4                Physical force  "
      ]
     },
     "execution_count": 195,
     "metadata": {},
     "output_type": "execute_result"
    }
   ],
   "source": [
    "df = pd.merge(df, allegations[[\"rank_incident\", \"allegation\"]], left_index = True, right_index = True)\n",
    "df = df[df[\"allegation\"].isnull() == False]\n",
    "cat = [\"complainant_gender\", \"complainant_ethnicity\", \"fado_type\", \"mos_ethnicity\", \"mos_gender\", \"rank_incident\", \"allegation\"]\n",
    "df[cat] = df[cat].astype(str)\n",
    "df.head()"
   ]
  },
  {
   "cell_type": "code",
   "execution_count": 196,
   "metadata": {},
   "outputs": [
    {
     "name": "stdout",
     "output_type": "stream",
     "text": [
      "accuracy:  68.86 %\n"
     ]
    }
   ],
   "source": [
    "#Pipeline\n",
    "cat = [\"complainant_ethnicity\", \"complainant_gender\", \"fado_type\", \"mos_ethnicity\", \"mos_gender\", \"allegation\"]\n",
    "dct = {\"Police Officer\": 0, \"Detective\": 1, \"Sergeant\": 2, \"Lieutenant\": 3, \"Captain\": 4, \n",
    " \"Deputy Inspector\": 5, \"Inspector\": 6, \"Chiefs and other ranks\": 7}\n",
    "month_dct = {1: \"Jan\", 2: \"Feb\", 3: \"Mar\", 4: \"Apr\", 5: \"May\", 6: \"Jun\", 7: \"Jul\", 8: \"Aug\", 9: \"Sep\", 10: \"Oct\", 11: \"Nov\", 12: \"Dec\"}\n",
    "\n",
    "month_pl = Pipeline([('convert', FunctionTransformer(lambda x: pd.DataFrame(x.iloc[:, 0].apply(lambda y: month_dct[y])))),\n",
    "                      ('ohe', OneHotEncoder())])\n",
    "preproc = ColumnTransformer([('month', month_pl, [\"month_closed\"]),\n",
    "                             ('rank', FunctionTransformer(lambda x: pd.DataFrame(x.iloc[:, 0].apply(lambda y: dct[y]))), [\"rank_incident\"]),\n",
    "                             ('ohe', OneHotEncoder(handle_unknown = \"ignore\"), cat)], remainder = \"passthrough\")\n",
    "pl = Pipeline([('preproc', preproc), ('classifier', LogisticRegression(max_iter = 450))])\n",
    "\n",
    "#Train-test split\n",
    "X_train, X_test, y_train, y_test = train_test_split(df.drop(\"success\", axis = 1), df[\"success\"], test_size = 0.15)\n",
    "\n",
    "#Fitting and prediction\n",
    "pl.fit(X_train, y_train)\n",
    "results = (pl.predict(X_test) == y_test).value_counts()\n",
    "print('accuracy: ', (round(results[1] *100/ results.sum(),2)), '%')"
   ]
  },
  {
   "cell_type": "markdown",
   "metadata": {},
   "source": [
    "#### Model Optimization: GridSearchCV\n",
    "\n",
    "The `LogisticRegression()` model has a parameter of `max_iter`, which denotes the maximum iterations taken for the solvers to converge.\n",
    "    In order to determine the best number for `max_iter`, GridSearchCV is run with `cv = 5`, to indicate a 5-layer Kfold cross-validation.\n",
    "    \n",
    "GridsearchCV tests out 14 different values for `max_iter`. This should be enough granularity, since we just need to find the general convergece point for the model; the parameter `max_iter` should not affect prediction accuracy."
   ]
  },
  {
   "cell_type": "code",
   "execution_count": 197,
   "metadata": {},
   "outputs": [
    {
     "data": {
      "text/plain": [
       "(300, 0.6765543443135497)"
      ]
     },
     "execution_count": 197,
     "metadata": {},
     "output_type": "execute_result"
    }
   ],
   "source": [
    "import warnings\n",
    "from sklearn.model_selection import GridSearchCV\n",
    "warnings.filterwarnings('ignore') #hide the warnings caused by non-convergence (i.e. max_iter is too low)\n",
    "\n",
    "\n",
    "params = {'max_iter':range(300,1000,50)}\n",
    "\n",
    "clf = GridSearchCV(LogisticRegression(), params, cv = 5)\n",
    "\n",
    "pl = Pipeline([('preproc', preproc), ('clf', clf)])\n",
    "\n",
    "pl.fit(df.drop(\"success\", axis = 1), df[\"success\"])\n",
    "(clf.best_params_[\"max_iter\"], clf.best_score_)"
   ]
  },
  {
   "cell_type": "markdown",
   "metadata": {},
   "source": [
    "The GridSearch found the connvergence point to be around `max_iter = 300`, with an $R^2$ value of 0.677. We can now fix this parameter in our model\n",
    "\n",
    "Just to be sure, we evaluate this choice of parameter. The code block below plots a histogram of the model scores across all choices of `max_iter`. The $R^2$ values of the model fall around a very similar range, so it can be said that the choice of parameter does not impact the model's accuraccy--a good outcome."
   ]
  },
  {
   "cell_type": "code",
   "execution_count": 198,
   "metadata": {},
   "outputs": [
    {
     "data": {
      "image/png": "[encoded data removed]",
      "text/plain": [
       "<Figure size 432x288 with 1 Axes>"
      ]
     },
     "metadata": {
      "image/png": {
       "height": 277,
       "width": 368
      },
      "needs_background": "light"
     },
     "output_type": "display_data"
    }
   ],
   "source": [
    "plt.hist(clf.cv_results_['mean_test_score'],bins=5)\n",
    "plt.suptitle('Accuracies on Validation Set for CV')\n",
    "plt.show()"
   ]
  },
  {
   "cell_type": "markdown",
   "metadata": {},
   "source": [
    "We also plot the standard deviation of the model accuracies. High standard deviation indicates model performance is highly sensitive to how the training and testing data is being split.\n",
    "\n",
    "Here, standard deviation is low--this means that the model is getting the same performance across other train-test splits--a favourable outcome. \n",
    "\n",
    "We can now redefine the LogisticRegression model to have a fixed `max_iter = 450`."
   ]
  },
  {
   "cell_type": "code",
   "execution_count": 199,
   "metadata": {},
   "outputs": [
    {
     "data": {
      "image/png": "[encoded data removed]",
      "text/plain": [
       "<Figure size 432x288 with 1 Axes>"
      ]
     },
     "metadata": {
      "image/png": {
       "height": 287,
       "width": 368
      },
      "needs_background": "light"
     },
     "output_type": "display_data"
    }
   ],
   "source": [
    "plt.hist(clf.cv_results_['std_test_score'],bins=10)\n",
    "plt.suptitle('Standard Deviation of CV Scores')\n",
    "plt.xticks(rotation=30)\n",
    "plt.show()\n",
    "\n",
    "#re-define the model\n",
    "pl = Pipeline([('preproc', preproc), ('classifier', LogisticRegression(max_iter = 450))])"
   ]
  },
  {
   "cell_type": "markdown",
   "metadata": {},
   "source": [
    "#### Model analysis\n",
    "\n",
    "Now that we have the results of our logistic regression, we can find the coefficients of each feature. Below are the top 10 features that most positively influence the outcome of the complaint. We will also be interpreting the logistic regression coefficients."
   ]
  },
  {
   "cell_type": "code",
   "execution_count": 200,
   "metadata": {},
   "outputs": [
    {
     "data": {
      "text/html": [
       "<div>\n",
       "<style scoped>\n",
       "    .dataframe tbody tr th:only-of-type {\n",
       "        vertical-align: middle;\n",
       "    }\n",
       "\n",
       "    .dataframe tbody tr th {\n",
       "        vertical-align: top;\n",
       "    }\n",
       "\n",
       "    .dataframe thead th {\n",
       "        text-align: right;\n",
       "    }\n",
       "</style>\n",
       "<table border=\"1\" class=\"dataframe\">\n",
       "  <thead>\n",
       "    <tr style=\"text-align: right;\">\n",
       "      <th></th>\n",
       "      <th>0</th>\n",
       "    </tr>\n",
       "  </thead>\n",
       "  <tbody>\n",
       "    <tr>\n",
       "      <th>allegation_Pepper spray</th>\n",
       "      <td>1.519692</td>\n",
       "    </tr>\n",
       "    <tr>\n",
       "      <th>allegation_Question and/or stop</th>\n",
       "      <td>1.370347</td>\n",
       "    </tr>\n",
       "    <tr>\n",
       "      <th>allegation_Gun Pointed</th>\n",
       "      <td>1.211526</td>\n",
       "    </tr>\n",
       "    <tr>\n",
       "      <th>allegation_Entry of Premises</th>\n",
       "      <td>1.140496</td>\n",
       "    </tr>\n",
       "    <tr>\n",
       "      <th>allegation_Retaliatory summons</th>\n",
       "      <td>1.099011</td>\n",
       "    </tr>\n",
       "    <tr>\n",
       "      <th>fado_type_Abuse of Authority</th>\n",
       "      <td>1.046300</td>\n",
       "    </tr>\n",
       "    <tr>\n",
       "      <th>allegation_Premises entered and/or searched</th>\n",
       "      <td>1.038570</td>\n",
       "    </tr>\n",
       "    <tr>\n",
       "      <th>allegation_Question</th>\n",
       "      <td>0.799014</td>\n",
       "    </tr>\n",
       "    <tr>\n",
       "      <th>allegation_Forcible Removal to Hospital</th>\n",
       "      <td>0.693732</td>\n",
       "    </tr>\n",
       "    <tr>\n",
       "      <th>allegation_Retaliatory arrest</th>\n",
       "      <td>0.613746</td>\n",
       "    </tr>\n",
       "  </tbody>\n",
       "</table>\n",
       "</div>"
      ],
      "text/plain": [
       "                                                    0\n",
       "allegation_Pepper spray                      1.519692\n",
       "allegation_Question and/or stop              1.370347\n",
       "allegation_Gun Pointed                       1.211526\n",
       "allegation_Entry of Premises                 1.140496\n",
       "allegation_Retaliatory summons               1.099011\n",
       "fado_type_Abuse of Authority                 1.046300\n",
       "allegation_Premises entered and/or searched  1.038570\n",
       "allegation_Question                          0.799014\n",
       "allegation_Forcible Removal to Hospital      0.693732\n",
       "allegation_Retaliatory arrest                0.613746"
      ]
     },
     "execution_count": 200,
     "metadata": {},
     "output_type": "execute_result"
    }
   ],
   "source": [
    "pl.fit(df.drop(\"success\", axis = 1), df[\"success\"])\n",
    "dum = pd.get_dummies(df[cat])\n",
    "labels = list(month_dct.values()) + [\"rank_incident\"] + dum.columns.tolist() + [\"year\"]\n",
    "coefs = pd.DataFrame(pl['classifier'].coef_[0], index = labels).sort_values(0, ascending = False)\n",
    "coefs.head(10)"
   ]
  },
  {
   "cell_type": "markdown",
   "metadata": {},
   "source": [
    "Following our initial goal if finding out whether gender plays a role in a complainant's success, we found out that ignoring every other feature, if the complainant was a male, they would have a success rate of ~49%. This success rate is ~51% for females. There is a ~2% difference between the two genders, which is not that negligible. This is contradictory with our initial findings where the Board is biased towards men.\n",
    "\n",
    "The model's intercept is also 50%. This means that without any features, when predicting, it will almost randomly choose between successful and failed, which is ideal."
   ]
  },
  {
   "cell_type": "code",
   "execution_count": 201,
   "metadata": {},
   "outputs": [
    {
     "name": "stdout",
     "output_type": "stream",
     "text": [
      "Model intercept percentage: 50.21868671701919 %\n",
      "Expected success rate for a male complainant and no other features 49.766685476492206 %\n",
      "Expected success rate for a female complainant and no other features 50.88849793209177 %\n"
     ]
    }
   ],
   "source": [
    "y = pl[\"classifier\"].intercept_\n",
    "print(\"Model intercept percentage:\", math.exp(y)/(math.exp(y) + 1) * 100, \"%\")\n",
    "\n",
    "y = pl[\"classifier\"].intercept_ + coefs.loc[\"complainant_gender_Male\"][0]\n",
    "print(\"Expected success rate for a male complainant and no other features\", math.exp(y)/(math.exp(y) + 1) * 100, \"%\")\n",
    "\n",
    "y = pl[\"classifier\"].intercept_ + coefs.loc[\"complainant_gender_Female\"][0]\n",
    "print(\"Expected success rate for a female complainant and no other features\", math.exp(y)/(math.exp(y) + 1) * 100, \"%\")\n"
   ]
  },
  {
   "cell_type": "markdown",
   "metadata": {},
   "source": [
    "If we were to look at the percentages for the top few features with the largest positive coefficients, we observe that a lot of these features include force or harrassment (e.g. pepper spray, gun pointed, abuse of authority, force, etc.). This means that a complainant has a ~70% probability of having a successful complaint if they experienced physical harrasment/force from an officer."
   ]
  },
  {
   "cell_type": "code",
   "execution_count": 202,
   "metadata": {},
   "outputs": [
    {
     "name": "stdout",
     "output_type": "stream",
     "text": [
      "Expected success rate for a complaint regarding Gun Pointed 77.21117654341285 %\n",
      "Expected success rate for a complaint regarding Abuse of Authority 74.17430445103209 %\n"
     ]
    }
   ],
   "source": [
    "y = pl[\"classifier\"].intercept_ + coefs.loc[\"allegation_Gun Pointed\"][0]\n",
    "print(\"Expected success rate for a complaint regarding Gun Pointed\", math.exp(y)/(math.exp(y) + 1) * 100, \"%\")\n",
    "\n",
    "y = pl[\"classifier\"].intercept_ + coefs.loc[\"fado_type_Abuse of Authority\"][0]\n",
    "print(\"Expected success rate for a complaint regarding Abuse of Authority\", math.exp(y)/(math.exp(y) + 1) * 100, \"%\")"
   ]
  },
  {
   "cell_type": "markdown",
   "metadata": {},
   "source": [
    "### Fairness Evaluation\n",
    "\n",
    "To conclude whether or not women really have an advantage compared to men when it comes to their complaints, we do a fairness test among the two genders and how accurate our predictions are. \n",
    "\n",
    "Hence, we will perform our predictions on two different samples: one with just male complainants, and another with just female complainants. For this, we will be using precision as a parity measure since it tells us how much of our \"successful\" predictions are actually true. This allows us to get an idea of how \"accurate\" our model is in predicting success among actually successful complaints.\n",
    "\n",
    "#### Precision for Women\n",
    "The results are displayed in a table. `0` indicates fail, and `1` indicates success. This means that (0,0) indicates true negatives, (1,1) indicates true positives, and so on."
   ]
  },
  {
   "cell_type": "code",
   "execution_count": 203,
   "metadata": {},
   "outputs": [
    {
     "name": "stdout",
     "output_type": "stream",
     "text": [
      "Precision: 0.68\n"
     ]
    },
    {
     "data": {
      "text/html": [
       "<div>\n",
       "<style scoped>\n",
       "    .dataframe tbody tr th:only-of-type {\n",
       "        vertical-align: middle;\n",
       "    }\n",
       "\n",
       "    .dataframe tbody tr th {\n",
       "        vertical-align: top;\n",
       "    }\n",
       "\n",
       "    .dataframe thead th {\n",
       "        text-align: right;\n",
       "    }\n",
       "</style>\n",
       "<table border=\"1\" class=\"dataframe\">\n",
       "  <thead>\n",
       "    <tr style=\"text-align: right;\">\n",
       "      <th>prediction</th>\n",
       "      <th>0</th>\n",
       "      <th>1</th>\n",
       "    </tr>\n",
       "    <tr>\n",
       "      <th>actual</th>\n",
       "      <th></th>\n",
       "      <th></th>\n",
       "    </tr>\n",
       "  </thead>\n",
       "  <tbody>\n",
       "    <tr>\n",
       "      <th>0</th>\n",
       "      <td>1863</td>\n",
       "      <td>981</td>\n",
       "    </tr>\n",
       "    <tr>\n",
       "      <th>1</th>\n",
       "      <td>740</td>\n",
       "      <td>2128</td>\n",
       "    </tr>\n",
       "  </tbody>\n",
       "</table>\n",
       "</div>"
      ],
      "text/plain": [
       "prediction     0     1\n",
       "actual                \n",
       "0           1863   981\n",
       "1            740  2128"
      ]
     },
     "execution_count": 203,
     "metadata": {},
     "output_type": "execute_result"
    }
   ],
   "source": [
    "actual = df[df[\"complainant_gender\"] == \"Female\"][\"success\"]\n",
    "preds = pl.predict(df[df[\"complainant_gender\"] == \"Female\"].drop(\"success\", axis = 1))\n",
    "females = pd.DataFrame({\"prediction\": preds, \"actual\": actual})\n",
    "ct = pd.crosstab(females[\"actual\"], females[\"prediction\"])\n",
    "obs_female = ct[1][1]/sum(ct[1])\n",
    "print(\"Precision:\", round(obs_female, 2))\n",
    "ct"
   ]
  },
  {
   "cell_type": "markdown",
   "metadata": {},
   "source": [
    "#### Precision for Men\n",
    "\n",
    "The same process is repeated for men."
   ]
  },
  {
   "cell_type": "code",
   "execution_count": 204,
   "metadata": {},
   "outputs": [
    {
     "name": "stdout",
     "output_type": "stream",
     "text": [
      "Precision: 0.68\n"
     ]
    },
    {
     "data": {
      "text/html": [
       "<div>\n",
       "<style scoped>\n",
       "    .dataframe tbody tr th:only-of-type {\n",
       "        vertical-align: middle;\n",
       "    }\n",
       "\n",
       "    .dataframe tbody tr th {\n",
       "        vertical-align: top;\n",
       "    }\n",
       "\n",
       "    .dataframe thead th {\n",
       "        text-align: right;\n",
       "    }\n",
       "</style>\n",
       "<table border=\"1\" class=\"dataframe\">\n",
       "  <thead>\n",
       "    <tr style=\"text-align: right;\">\n",
       "      <th>prediction</th>\n",
       "      <th>0</th>\n",
       "      <th>1</th>\n",
       "    </tr>\n",
       "    <tr>\n",
       "      <th>actual</th>\n",
       "      <th></th>\n",
       "      <th></th>\n",
       "    </tr>\n",
       "  </thead>\n",
       "  <tbody>\n",
       "    <tr>\n",
       "      <th>0</th>\n",
       "      <td>6992</td>\n",
       "      <td>5581</td>\n",
       "    </tr>\n",
       "    <tr>\n",
       "      <th>1</th>\n",
       "      <td>3290</td>\n",
       "      <td>11698</td>\n",
       "    </tr>\n",
       "  </tbody>\n",
       "</table>\n",
       "</div>"
      ],
      "text/plain": [
       "prediction     0      1\n",
       "actual                 \n",
       "0           6992   5581\n",
       "1           3290  11698"
      ]
     },
     "execution_count": 204,
     "metadata": {},
     "output_type": "execute_result"
    }
   ],
   "source": [
    "actual = df[df[\"complainant_gender\"] == \"Male\"][\"success\"]\n",
    "preds = pl.predict(df[df[\"complainant_gender\"] == \"Male\"].drop(\"success\", axis = 1))\n",
    "males = pd.DataFrame({\"prediction\": preds, \"actual\": actual})\n",
    "ct = pd.crosstab(males[\"actual\"], males[\"prediction\"])\n",
    "obs_male = ct[1][1]/sum(ct[1])\n",
    "print(\"Precision:\", round(obs_male,2))\n",
    "obs = obs_male - obs_female\n",
    "ct"
   ]
  },
  {
   "cell_type": "markdown",
   "metadata": {},
   "source": [
    "#### Permutation test\n",
    "\n",
    "We use the following assumptions for this permutation test:\n",
    "- $H_0$: The model is fair; the precision for the two subsets are roughly the same\n",
    "- $H_a$: The model is unfair; the precision for the female subset is higher than the male subset\n",
    "- A Significance level of p = 0.05 (5%)\n",
    "\n",
    "The code block below carries out a test with 1000 permutations. The histogram of the precision differences are plotted, and the p-value is calculated."
   ]
  },
  {
   "cell_type": "code",
   "execution_count": 205,
   "metadata": {},
   "outputs": [],
   "source": [
    "lst = []\n",
    "for _ in range(1000):\n",
    "    temp = df.assign(complainant_gender = df[\"complainant_gender\"].sample(frac = 1, replace = False).reset_index(drop =True))\n",
    "    m_actual = temp[temp[\"complainant_gender\"] == \"Male\"][\"success\"]\n",
    "    fe_actual = temp[temp[\"complainant_gender\"] == \"Female\"][\"success\"]\n",
    "\n",
    "    m_pred = pl.predict(temp[temp[\"complainant_gender\"] == \"Male\"].drop(\"success\", axis = 1))\n",
    "    fe_pred = pl.predict(temp[temp[\"complainant_gender\"] == \"Female\"].drop(\"success\", axis = 1))\n",
    "    \n",
    "    tp = np.count_nonzero((m_actual == 1) & (m_pred == 1))\n",
    "    fp = np.count_nonzero((m_actual == 0) & (m_pred == 1))\n",
    "    obs_male = tp/(tp+fp)\n",
    "    \n",
    "    tp = np.count_nonzero((fe_actual == 1) & (fe_pred == 1))\n",
    "    fp = np.count_nonzero((fe_actual == 0) & (fe_pred == 1))\n",
    "    obs_female = tp/(tp+fp)\n",
    "\n",
    "    lst.append(obs_male - obs_female)\n"
   ]
  },
  {
   "cell_type": "code",
   "execution_count": 206,
   "metadata": {},
   "outputs": [
    {
     "name": "stdout",
     "output_type": "stream",
     "text": [
      "P-value: 0.904\n"
     ]
    },
    {
     "data": {
      "image/png": "[encoded data removed]",
      "text/plain": [
       "<Figure size 432x288 with 1 Axes>"
      ]
     },
     "metadata": {
      "image/png": {
       "height": 263,
       "width": 398
      },
      "needs_background": "light"
     },
     "output_type": "display_data"
    }
   ],
   "source": [
    "pd.Series(lst).plot(kind = 'hist', title = 'Permutation Test for Males vs Females')\n",
    "plt.axvline(x = obs, color = 'r')\n",
    "print(\"P-value:\", (pd.Series(lst) > obs).mean())"
   ]
  },
  {
   "cell_type": "markdown",
   "metadata": {},
   "source": [
    "#### Conclusion of Fairness Evaluation\n",
    "\n",
    "We can see from the crosstabs that male has more actual successful complaints than failed complaints, while females have almost an equal number of actual successful to failed complaints. Although this \"imbalance\" causes us to have more false positives than false negatives in the males' crosstab, it does not prevent us from having a precision that is approximately close to that of the females' prediction precision. Thus, as seen from our permutation test, we can conclude with a p-value of ~0.90 that we cannot reject the null hypothesis and hereby cannot reject the evidence that males and females' success rates are fairly predicted by our model."
   ]
  }
 ],
 "metadata": {
  "kernelspec": {
   "display_name": "Python 3",
   "language": "python",
   "name": "python3"
  },
  "language_info": {
   "codemirror_mode": {
    "name": "ipython",
    "version": 3
   },
   "file_extension": ".py",
   "mimetype": "text/x-python",
   "name": "python",
   "nbconvert_exporter": "python",
   "pygments_lexer": "ipython3",
   "version": "3.7.3"
  }
 },
 "nbformat": 4,
 "nbformat_minor": 2
}
